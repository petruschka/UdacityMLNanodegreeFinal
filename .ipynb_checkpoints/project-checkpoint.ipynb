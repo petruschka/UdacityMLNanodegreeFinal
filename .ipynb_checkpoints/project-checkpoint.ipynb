{
 "cells": [
  {
   "cell_type": "markdown",
   "metadata": {},
   "source": [
    "# Data Preprocessing"
   ]
  },
  {
   "cell_type": "code",
   "execution_count": 35,
   "metadata": {},
   "outputs": [],
   "source": [
    "#import the needed libraries\n",
    "import numpy as np\n",
    "import pandas as pd\n",
    "import matplotlib.pyplot as plt\n",
    "import matplotlib.patches as mpatches"
   ]
  },
  {
   "cell_type": "code",
   "execution_count": 36,
   "metadata": {},
   "outputs": [],
   "source": [
    "#load data into a dataframe\n",
    "df = pd.read_csv(\"Data/fer2013.csv\")"
   ]
  },
  {
   "cell_type": "code",
   "execution_count": 37,
   "metadata": {
    "scrolled": true
   },
   "outputs": [
    {
     "name": "stdout",
     "output_type": "stream",
     "text": [
      "<class 'pandas.core.frame.DataFrame'>\n",
      "RangeIndex: 35887 entries, 0 to 35886\n",
      "Data columns (total 3 columns):\n",
      "emotion    35887 non-null int64\n",
      "pixels     35887 non-null object\n",
      "Usage      35887 non-null object\n",
      "dtypes: int64(1), object(2)\n",
      "memory usage: 841.2+ KB\n"
     ]
    }
   ],
   "source": [
    "#analyze the data\n",
    "df.info()"
   ]
  },
  {
   "cell_type": "code",
   "execution_count": 38,
   "metadata": {},
   "outputs": [
    {
     "data": {
      "text/html": [
       "<div>\n",
       "<style scoped>\n",
       "    .dataframe tbody tr th:only-of-type {\n",
       "        vertical-align: middle;\n",
       "    }\n",
       "\n",
       "    .dataframe tbody tr th {\n",
       "        vertical-align: top;\n",
       "    }\n",
       "\n",
       "    .dataframe thead th {\n",
       "        text-align: right;\n",
       "    }\n",
       "</style>\n",
       "<table border=\"1\" class=\"dataframe\">\n",
       "  <thead>\n",
       "    <tr style=\"text-align: right;\">\n",
       "      <th></th>\n",
       "      <th>emotion</th>\n",
       "      <th>pixels</th>\n",
       "      <th>Usage</th>\n",
       "    </tr>\n",
       "  </thead>\n",
       "  <tbody>\n",
       "    <tr>\n",
       "      <th>0</th>\n",
       "      <td>0</td>\n",
       "      <td>70 80 82 72 58 58 60 63 54 58 60 48 89 115 121...</td>\n",
       "      <td>Training</td>\n",
       "    </tr>\n",
       "    <tr>\n",
       "      <th>1</th>\n",
       "      <td>0</td>\n",
       "      <td>151 150 147 155 148 133 111 140 170 174 182 15...</td>\n",
       "      <td>Training</td>\n",
       "    </tr>\n",
       "    <tr>\n",
       "      <th>2</th>\n",
       "      <td>2</td>\n",
       "      <td>231 212 156 164 174 138 161 173 182 200 106 38...</td>\n",
       "      <td>Training</td>\n",
       "    </tr>\n",
       "    <tr>\n",
       "      <th>3</th>\n",
       "      <td>4</td>\n",
       "      <td>24 32 36 30 32 23 19 20 30 41 21 22 32 34 21 1...</td>\n",
       "      <td>Training</td>\n",
       "    </tr>\n",
       "    <tr>\n",
       "      <th>4</th>\n",
       "      <td>6</td>\n",
       "      <td>4 0 0 0 0 0 0 0 0 0 0 0 3 15 23 28 48 50 58 84...</td>\n",
       "      <td>Training</td>\n",
       "    </tr>\n",
       "    <tr>\n",
       "      <th>5</th>\n",
       "      <td>2</td>\n",
       "      <td>55 55 55 55 55 54 60 68 54 85 151 163 170 179 ...</td>\n",
       "      <td>Training</td>\n",
       "    </tr>\n",
       "    <tr>\n",
       "      <th>6</th>\n",
       "      <td>4</td>\n",
       "      <td>20 17 19 21 25 38 42 42 46 54 56 62 63 66 82 1...</td>\n",
       "      <td>Training</td>\n",
       "    </tr>\n",
       "    <tr>\n",
       "      <th>7</th>\n",
       "      <td>3</td>\n",
       "      <td>77 78 79 79 78 75 60 55 47 48 58 73 77 79 57 5...</td>\n",
       "      <td>Training</td>\n",
       "    </tr>\n",
       "    <tr>\n",
       "      <th>8</th>\n",
       "      <td>3</td>\n",
       "      <td>85 84 90 121 101 102 133 153 153 169 177 189 1...</td>\n",
       "      <td>Training</td>\n",
       "    </tr>\n",
       "    <tr>\n",
       "      <th>9</th>\n",
       "      <td>2</td>\n",
       "      <td>255 254 255 254 254 179 122 107 95 124 149 150...</td>\n",
       "      <td>Training</td>\n",
       "    </tr>\n",
       "  </tbody>\n",
       "</table>\n",
       "</div>"
      ],
      "text/plain": [
       "   emotion                                             pixels     Usage\n",
       "0        0  70 80 82 72 58 58 60 63 54 58 60 48 89 115 121...  Training\n",
       "1        0  151 150 147 155 148 133 111 140 170 174 182 15...  Training\n",
       "2        2  231 212 156 164 174 138 161 173 182 200 106 38...  Training\n",
       "3        4  24 32 36 30 32 23 19 20 30 41 21 22 32 34 21 1...  Training\n",
       "4        6  4 0 0 0 0 0 0 0 0 0 0 0 3 15 23 28 48 50 58 84...  Training\n",
       "5        2  55 55 55 55 55 54 60 68 54 85 151 163 170 179 ...  Training\n",
       "6        4  20 17 19 21 25 38 42 42 46 54 56 62 63 66 82 1...  Training\n",
       "7        3  77 78 79 79 78 75 60 55 47 48 58 73 77 79 57 5...  Training\n",
       "8        3  85 84 90 121 101 102 133 153 153 169 177 189 1...  Training\n",
       "9        2  255 254 255 254 254 179 122 107 95 124 149 150...  Training"
      ]
     },
     "execution_count": 38,
     "metadata": {},
     "output_type": "execute_result"
    }
   ],
   "source": [
    "df.head(10)"
   ]
  },
  {
   "cell_type": "code",
   "execution_count": 39,
   "metadata": {},
   "outputs": [
    {
     "data": {
      "image/png": "[encoded data removed]",
      "text/plain": [
       "<Figure size 720x360 with 1 Axes>"
      ]
     },
     "metadata": {},
     "output_type": "display_data"
    }
   ],
   "source": [
    "#plot the distribution of emotions\n",
    "\n",
    "fig = plt.figure(figsize=(10,5))\n",
    "ax = fig.add_subplot(111)\n",
    "\n",
    "N, bins, patches = ax.hist(df['emotion'], bins=range(0,8), histtype='bar', align='left', edgecolor='black', linewidth=2)\n",
    "plt.xlabel(\"Emotion Category\")\n",
    "plt.ylabel(\"Number of pictures per emotion\")\n",
    "plt.title(\"Distribution of Microemotions in the Dataset\")\n",
    "plt.grid(True)\n",
    "\n",
    "colors = ['firebrick', 'royalblue', 'coral', 'slateblue', 'purple', 'midnightblue', 'tomato']\n",
    "emotions = ['0: Angry', '1: Disgust', '2: Fear', '3: Happy', '4: Sad', '5: Surprise', '6: Neutral']\n",
    "\n",
    "handles = []\n",
    "for i, color in enumerate(colors):\n",
    "    patches[i].set_facecolor(color)\n",
    "    handles.append(mpatches.Patch(color=color, label=emotions[i]))\n",
    "    \n",
    "plt.legend(handles=handles)\n",
    "\n",
    "plt.show()"
   ]
  },
  {
   "cell_type": "markdown",
   "metadata": {},
   "source": [
    "## Data Preprocessing"
   ]
  },
  {
   "cell_type": "code",
   "execution_count": 40,
   "metadata": {},
   "outputs": [],
   "source": [
    "#split the 'pixels' string by whitespace and save the result as a list\n",
    "X = df['pixels'].apply(np.core.defchararray.split)"
   ]
  },
  {
   "cell_type": "code",
   "execution_count": 41,
   "metadata": {},
   "outputs": [],
   "source": [
    "#create a numpy array and transform str into int simultaneously\n",
    "X = np.array([list(map(int, x)) for x in X])"
   ]
  },
  {
   "cell_type": "code",
   "execution_count": 42,
   "metadata": {},
   "outputs": [],
   "source": [
    "#Reshape into a 4 dimensional numpy array\n",
    "X = X.reshape(X.shape[0], 48, 48, 1)"
   ]
  },
  {
   "cell_type": "code",
   "execution_count": 43,
   "metadata": {},
   "outputs": [],
   "source": [
    "#transform the emotion output into a numpy array\n",
    "y = df['emotion'].values"
   ]
  },
  {
   "cell_type": "markdown",
   "metadata": {},
   "source": [
    "## Data Splitting"
   ]
  },
  {
   "cell_type": "code",
   "execution_count": 44,
   "metadata": {},
   "outputs": [],
   "source": [
    "#use the stratify command in order to keep the distributions similar\n",
    "#TODO use the same syntax in the fit or fit_generator command\n",
    "from sklearn.model_selection import train_test_split\n",
    "X_train, X_test, y_train, y_test = train_test_split(X, y, test_size=0.2, random_state = 42, stratify=y)"
   ]
  },
  {
   "cell_type": "code",
   "execution_count": 45,
   "metadata": {},
   "outputs": [],
   "source": [
    "X_train, X_valid, y_train, y_valid = train_test_split(X_train, y_train, \n",
    "                                          test_size=0.2, random_state = 42)"
   ]
  },
  {
   "cell_type": "markdown",
   "metadata": {},
   "source": [
    "## Draw the data"
   ]
  },
  {
   "cell_type": "code",
   "execution_count": 46,
   "metadata": {},
   "outputs": [
    {
     "data": {
      "image/png": "[encoded data removed]",
      "text/plain": [
       "<Figure size 1080x360 with 20 Axes>"
      ]
     },
     "metadata": {},
     "output_type": "display_data"
    }
   ],
   "source": [
    "#draw the first 20 images\n",
    "fig = plt.figure(figsize=(15, 5))\n",
    "for i in range(20):\n",
    "    ax = fig.add_subplot(2, 10, i+1)\n",
    "    ax.imshow(np.squeeze(X[i]), cmap='gray')\n",
    "    ax.set_title(y[i])"
   ]
  },
  {
   "cell_type": "markdown",
   "metadata": {},
   "source": [
    "## Data Rescaling"
   ]
  },
  {
   "cell_type": "code",
   "execution_count": 47,
   "metadata": {},
   "outputs": [],
   "source": [
    "#between 0 and 1\n",
    "#TODO Check distribution of X values\n",
    "X_train = X_train.astype('float32')/255\n",
    "X_test = X_test.astype('float32')/255\n",
    "X_valid = X_valid.astype('float32')/255"
   ]
  },
  {
   "cell_type": "markdown",
   "metadata": {},
   "source": [
    "## One Hot Encoding"
   ]
  },
  {
   "cell_type": "code",
   "execution_count": 48,
   "metadata": {},
   "outputs": [],
   "source": [
    "from keras.utils import np_utils\n",
    "\n",
    "# one hot encoding for the 7 categories\n",
    "y_train = np_utils.to_categorical(y_train, 7)\n",
    "y_test = np_utils.to_categorical(y_test, 7)\n",
    "y_valid = np_utils.to_categorical(y_valid, 7)"
   ]
  },
  {
   "cell_type": "markdown",
   "metadata": {},
   "source": [
    "# Multilayer Perceptron"
   ]
  },
  {
   "cell_type": "code",
   "execution_count": 49,
   "metadata": {},
   "outputs": [
    {
     "name": "stdout",
     "output_type": "stream",
     "text": [
      "_________________________________________________________________\n",
      "Layer (type)                 Output Shape              Param #   \n",
      "=================================================================\n",
      "flatten_2 (Flatten)          (None, 2304)              0         \n",
      "_________________________________________________________________\n",
      "dense_5 (Dense)              (None, 100)               230500    \n",
      "_________________________________________________________________\n",
      "dropout_4 (Dropout)          (None, 100)               0         \n",
      "_________________________________________________________________\n",
      "dense_6 (Dense)              (None, 100)               10100     \n",
      "_________________________________________________________________\n",
      "dropout_5 (Dropout)          (None, 100)               0         \n",
      "_________________________________________________________________\n",
      "dense_7 (Dense)              (None, 100)               10100     \n",
      "_________________________________________________________________\n",
      "dropout_6 (Dropout)          (None, 100)               0         \n",
      "_________________________________________________________________\n",
      "dense_8 (Dense)              (None, 7)                 707       \n",
      "=================================================================\n",
      "Total params: 251,407\n",
      "Trainable params: 251,407\n",
      "Non-trainable params: 0\n",
      "_________________________________________________________________\n"
     ]
    }
   ],
   "source": [
    "from keras.models import Sequential\n",
    "from keras.layers import Dense, Dropout, Flatten\n",
    "\n",
    "model = Sequential()\n",
    "model.add(Flatten(input_shape=X_train.shape[1:]))\n",
    "model.add(Dense(100, activation='relu'))\n",
    "model.add(Dropout(0.2))\n",
    "model.add(Dense(100, activation='relu'))\n",
    "model.add(Dropout(0.2))\n",
    "model.add(Dense(100, activation='relu'))\n",
    "model.add(Dropout(0.2))\n",
    "model.add(Dense(7, activation='softmax'))\n",
    "\n",
    "model.summary()"
   ]
  },
  {
   "cell_type": "code",
   "execution_count": 50,
   "metadata": {},
   "outputs": [],
   "source": [
    "model.compile(loss='categorical_crossentropy', optimizer='rmsprop', metrics=['accuracy'])"
   ]
  },
  {
   "cell_type": "code",
   "execution_count": 51,
   "metadata": {},
   "outputs": [
    {
     "name": "stdout",
     "output_type": "stream",
     "text": [
      "Train on 22967 samples, validate on 5742 samples\n",
      "Epoch 1/10\n",
      "22967/22967 [==============================] - 16s 713us/step - loss: 1.8536 - acc: 0.2316 - val_loss: 1.8028 - val_acc: 0.2461\n",
      "\n",
      "Epoch 00001: val_loss improved from inf to 1.80284, saving model to MLP_emotion.model.best.hdf5\n",
      "Epoch 2/10\n",
      "22967/22967 [==============================] - 4s 196us/step - loss: 1.8027 - acc: 0.2500 - val_loss: 1.7765 - val_acc: 0.2628\n",
      "\n",
      "Epoch 00002: val_loss improved from 1.80284 to 1.77649, saving model to MLP_emotion.model.best.hdf5\n",
      "Epoch 3/10\n",
      "22967/22967 [==============================] - 5s 200us/step - loss: 1.7766 - acc: 0.2704 - val_loss: 1.7695 - val_acc: 0.2811\n",
      "\n",
      "Epoch 00003: val_loss improved from 1.77649 to 1.76950, saving model to MLP_emotion.model.best.hdf5\n",
      "Epoch 4/10\n",
      " 9216/22967 [===========>..................] - ETA: 15s - loss: 1.7584 - acc: 0.2820"
     ]
    },
    {
     "name": "stderr",
     "output_type": "stream",
     "text": [
      "c:\\users\\avadi\\appdata\\local\\programs\\python\\python36\\lib\\site-packages\\keras\\callbacks.py:120: UserWarning: Method on_batch_end() is slow compared to the batch update (0.107998). Check your callbacks.\n",
      "  % delta_t_median)\n"
     ]
    },
    {
     "name": "stdout",
     "output_type": "stream",
     "text": [
      " 9984/22967 [============>.................] - ETA: 15s - loss: 1.7576 - acc: 0.2818"
     ]
    },
    {
     "name": "stderr",
     "output_type": "stream",
     "text": [
      "c:\\users\\avadi\\appdata\\local\\programs\\python\\python36\\lib\\site-packages\\keras\\callbacks.py:120: UserWarning: Method on_batch_end() is slow compared to the batch update (0.104998). Check your callbacks.\n",
      "  % delta_t_median)\n"
     ]
    },
    {
     "name": "stdout",
     "output_type": "stream",
     "text": [
      "12160/22967 [==============>...............] - ETA: 15s - loss: 1.7598 - acc: 0.2812"
     ]
    },
    {
     "name": "stderr",
     "output_type": "stream",
     "text": [
      "c:\\users\\avadi\\appdata\\local\\programs\\python\\python36\\lib\\site-packages\\keras\\callbacks.py:120: UserWarning: Method on_batch_end() is slow compared to the batch update (0.100498). Check your callbacks.\n",
      "  % delta_t_median)\n"
     ]
    },
    {
     "name": "stdout",
     "output_type": "stream",
     "text": [
      "22967/22967 [==============================] - 24s 1ms/step - loss: 1.7580 - acc: 0.2827 - val_loss: 1.7405 - val_acc: 0.3137\n",
      "\n",
      "Epoch 00004: val_loss improved from 1.76950 to 1.74048, saving model to MLP_emotion.model.best.hdf5\n",
      "Epoch 5/10\n",
      "12160/22967 [==============>...............] - ETA: 7s - loss: 1.7499 - acc: 0.2897"
     ]
    },
    {
     "name": "stderr",
     "output_type": "stream",
     "text": [
      "c:\\users\\avadi\\appdata\\local\\programs\\python\\python36\\lib\\site-packages\\keras\\callbacks.py:120: UserWarning: Method on_batch_end() is slow compared to the batch update (0.121499). Check your callbacks.\n",
      "  % delta_t_median)\n",
      "c:\\users\\avadi\\appdata\\local\\programs\\python\\python36\\lib\\site-packages\\keras\\callbacks.py:120: UserWarning: Method on_batch_end() is slow compared to the batch update (0.103499). Check your callbacks.\n",
      "  % delta_t_median)\n"
     ]
    },
    {
     "name": "stdout",
     "output_type": "stream",
     "text": [
      "22967/22967 [==============================] - 11s 490us/step - loss: 1.7487 - acc: 0.2873 - val_loss: 1.7306 - val_acc: 0.3175\n",
      "\n",
      "Epoch 00005: val_loss improved from 1.74048 to 1.73056, saving model to MLP_emotion.model.best.hdf5\n",
      "Epoch 6/10\n",
      "22967/22967 [==============================] - 5s 222us/step - loss: 1.7371 - acc: 0.2956 - val_loss: 1.7496 - val_acc: 0.2872\n",
      "\n",
      "Epoch 00006: val_loss did not improve from 1.73056\n",
      "Epoch 7/10\n",
      "22967/22967 [==============================] - 5s 208us/step - loss: 1.7353 - acc: 0.2974 - val_loss: 1.7220 - val_acc: 0.3321\n",
      "\n",
      "Epoch 00007: val_loss improved from 1.73056 to 1.72201, saving model to MLP_emotion.model.best.hdf5\n",
      "Epoch 8/10\n",
      "22967/22967 [==============================] - 5s 209us/step - loss: 1.7288 - acc: 0.2993 - val_loss: 1.7366 - val_acc: 0.3044\n",
      "\n",
      "Epoch 00008: val_loss did not improve from 1.72201\n",
      "Epoch 9/10\n",
      "22967/22967 [==============================] - 5s 200us/step - loss: 1.7185 - acc: 0.3087 - val_loss: 1.7075 - val_acc: 0.3197\n",
      "\n",
      "Epoch 00009: val_loss improved from 1.72201 to 1.70747, saving model to MLP_emotion.model.best.hdf5\n",
      "Epoch 10/10\n",
      "22967/22967 [==============================] - 5s 208us/step - loss: 1.7159 - acc: 0.3120 - val_loss: 1.6808 - val_acc: 0.3370\n",
      "\n",
      "Epoch 00010: val_loss improved from 1.70747 to 1.68079, saving model to MLP_emotion.model.best.hdf5\n"
     ]
    }
   ],
   "source": [
    "from keras.callbacks import ModelCheckpoint\n",
    "\n",
    "checkpointer = ModelCheckpoint(filepath='MLP_emotion.model.best.hdf5', verbose=1, save_best_only=True)\n",
    "hist = model.fit(X_train, y_train, batch_size=128, epochs=10, \n",
    "                 validation_data=(X_valid, y_valid), callbacks=[checkpointer], verbose=1, shuffle=True)"
   ]
  },
  {
   "cell_type": "markdown",
   "metadata": {},
   "source": [
    "### Confusion Matrix"
   ]
  },
  {
   "cell_type": "code",
   "execution_count": 52,
   "metadata": {},
   "outputs": [],
   "source": [
    "#TODO Adjust to your style\n",
    "from sklearn.metrics import confusion_matrix\n",
    "import itertools\n",
    "def conf_matrix(true, prediction):\n",
    "    cm = confusion_matrix(true, prediction)\n",
    "\n",
    "    plt.imshow(cm, plt.cm.Blues)\n",
    "    plt.title('Confusion Matrix')\n",
    "    plt.colorbar()\n",
    "    tick_marks = np.arange(len(emotions))\n",
    "    plt.xticks(tick_marks, emotions, rotation=45)\n",
    "    plt.yticks(tick_marks, emotions)\n",
    "\n",
    "    fmt = 'd'\n",
    "    thresh = cm.max() / 2.\n",
    "    for i, j in itertools.product(range(cm.shape[0]), range(cm.shape[1])):\n",
    "        plt.text(j, i, format(cm[i, j], fmt),\n",
    "                 horizontalalignment=\"center\",\n",
    "                 color=\"white\" if cm[i, j] > thresh else \"black\")\n",
    "\n",
    "\n",
    "    plt.ylabel('True Emotion')\n",
    "    plt.xlabel('Predicted Emotion')\n",
    "    plt.tight_layout()"
   ]
  },
  {
   "cell_type": "markdown",
   "metadata": {},
   "source": [
    "### ROD and AUC"
   ]
  },
  {
   "cell_type": "code",
   "execution_count": 53,
   "metadata": {},
   "outputs": [
    {
     "data": {
      "image/png": "[encoded data removed]",
      "text/plain": [
       "<Figure size 432x288 with 2 Axes>"
      ]
     },
     "metadata": {},
     "output_type": "display_data"
    }
   ],
   "source": [
    "model.load_weights('MLP_emotion.model.best.hdf5')\n",
    "prediction = np.argmax(model.predict(X_test), axis=1)\n",
    "true = np.argmax(y_test, axis = 1)\n",
    "conf_matrix(true, prediction)"
   ]
  },
  {
   "cell_type": "code",
   "execution_count": 90,
   "metadata": {},
   "outputs": [],
   "source": [
    "from sklearn.metrics import auc\n",
    "from sklearn.metrics import roc_curve\n",
    "\n",
    "def roc_auc(pred, true, num_categories):\n",
    "    for i in range(num_categories):\n",
    "        class_dictionary = {x:0 if x!=i else 1 for x in range(num_categories) }\n",
    "        pred_class = np.array([class_dictionary[i] for i in pred])\n",
    "        true_class = np.array([class_dictionary[i] for i in true])\n",
    "        fpr, tpr, thresholds = roc_curve(true_class, pred_class)\n",
    "        auc_category = auc(fpr, tpr)\n",
    "        print(emotions[i], auc_category)"
   ]
  },
  {
   "cell_type": "code",
   "execution_count": 91,
   "metadata": {},
   "outputs": [
    {
     "name": "stdout",
     "output_type": "stream",
     "text": [
      "0: Angry 0.5\n",
      "1: Disgust 0.5\n",
      "2: Fear 0.5155156643544849\n",
      "3: Happy 0.6943766514632119\n",
      "4: Sad 0.5883825356644716\n",
      "5: Surprise 0.6838579883976167\n",
      "6: Neutral 0.5508988037679678\n"
     ]
    }
   ],
   "source": [
    "roc_auc(prediction, true, 7)"
   ]
  },
  {
   "cell_type": "markdown",
   "metadata": {},
   "source": [
    "## Convolutional Neural Networks"
   ]
  },
  {
   "cell_type": "code",
   "execution_count": 98,
   "metadata": {},
   "outputs": [
    {
     "name": "stdout",
     "output_type": "stream",
     "text": [
      "_________________________________________________________________\n",
      "Layer (type)                 Output Shape              Param #   \n",
      "=================================================================\n",
      "conv2d_10 (Conv2D)           (None, 48, 48, 16)        80        \n",
      "_________________________________________________________________\n",
      "max_pooling2d_10 (MaxPooling (None, 24, 24, 16)        0         \n",
      "_________________________________________________________________\n",
      "conv2d_11 (Conv2D)           (None, 24, 24, 32)        2080      \n",
      "_________________________________________________________________\n",
      "max_pooling2d_11 (MaxPooling (None, 12, 12, 32)        0         \n",
      "_________________________________________________________________\n",
      "conv2d_12 (Conv2D)           (None, 12, 12, 64)        8256      \n",
      "_________________________________________________________________\n",
      "max_pooling2d_12 (MaxPooling (None, 6, 6, 64)          0         \n",
      "_________________________________________________________________\n",
      "conv2d_13 (Conv2D)           (None, 6, 6, 128)         32896     \n",
      "_________________________________________________________________\n",
      "max_pooling2d_13 (MaxPooling (None, 3, 3, 128)         0         \n",
      "_________________________________________________________________\n",
      "conv2d_14 (Conv2D)           (None, 3, 3, 256)         131328    \n",
      "_________________________________________________________________\n",
      "max_pooling2d_14 (MaxPooling (None, 1, 1, 256)         0         \n",
      "_________________________________________________________________\n",
      "dropout_13 (Dropout)         (None, 1, 1, 256)         0         \n",
      "_________________________________________________________________\n",
      "flatten_5 (Flatten)          (None, 256)               0         \n",
      "_________________________________________________________________\n",
      "dense_15 (Dense)             (None, 500)               128500    \n",
      "_________________________________________________________________\n",
      "dropout_14 (Dropout)         (None, 500)               0         \n",
      "_________________________________________________________________\n",
      "dense_16 (Dense)             (None, 200)               100200    \n",
      "_________________________________________________________________\n",
      "dropout_15 (Dropout)         (None, 200)               0         \n",
      "_________________________________________________________________\n",
      "dense_17 (Dense)             (None, 7)                 1407      \n",
      "=================================================================\n",
      "Total params: 404,747\n",
      "Trainable params: 404,747\n",
      "Non-trainable params: 0\n",
      "_________________________________________________________________\n"
     ]
    }
   ],
   "source": [
    "from keras.models import Sequential\n",
    "from keras.layers import Conv2D, MaxPooling2D, Flatten, Dense, Dropout\n",
    "\n",
    "model = Sequential()\n",
    "model.add(Conv2D(filters=16, kernel_size=2, padding='same', activation='relu', \n",
    "                        input_shape=X_train.shape[1:]))\n",
    "model.add(MaxPooling2D(pool_size=2))\n",
    "model.add(Conv2D(filters=32, kernel_size=2, padding='same', activation='relu'))\n",
    "model.add(MaxPooling2D(pool_size=2))\n",
    "model.add(Conv2D(filters=64, kernel_size=2, padding='same', activation='relu'))\n",
    "model.add(MaxPooling2D(pool_size=2))\n",
    "model.add(Conv2D(filters=128, kernel_size=2, padding='same', activation='relu'))\n",
    "model.add(MaxPooling2D(pool_size=2))\n",
    "model.add(Conv2D(filters=256, kernel_size=2, padding='same', activation='relu'))\n",
    "model.add(MaxPooling2D(pool_size=2))\n",
    "model.add(Dropout(0.3))\n",
    "model.add(Flatten())\n",
    "model.add(Dense(500, activation='relu'))\n",
    "model.add(Dropout(0.4))\n",
    "model.add(Dense(200, activation='relu'))\n",
    "model.add(Dropout(0.4))\n",
    "model.add(Dense(7, activation='softmax'))\n",
    "\n",
    "model.summary()"
   ]
  },
  {
   "cell_type": "code",
   "execution_count": 99,
   "metadata": {},
   "outputs": [],
   "source": [
    "# compile the model\n",
    "model.compile(loss='categorical_crossentropy', optimizer='rmsprop', \n",
    "                  metrics=['accuracy'])"
   ]
  },
  {
   "cell_type": "code",
   "execution_count": 105,
   "metadata": {},
   "outputs": [
    {
     "name": "stdout",
     "output_type": "stream",
     "text": [
      "Train on 22967 samples, validate on 5742 samples\n",
      "Epoch 1/50\n",
      " - 4s - loss: 1.0176 - acc: 0.6181 - val_loss: 1.3239 - val_acc: 0.5308\n",
      "\n",
      "Epoch 00001: val_loss improved from inf to 1.32388, saving model to CNN_emotion.model.best.hdf5\n",
      "Epoch 2/50\n",
      " - 4s - loss: 0.9871 - acc: 0.6282 - val_loss: 1.4500 - val_acc: 0.4709\n",
      "\n",
      "Epoch 00002: val_loss did not improve from 1.32388\n",
      "Epoch 3/50\n",
      " - 4s - loss: 0.9545 - acc: 0.6427 - val_loss: 1.4224 - val_acc: 0.4890\n",
      "\n",
      "Epoch 00003: val_loss did not improve from 1.32388\n",
      "Epoch 4/50\n",
      " - 4s - loss: 0.9130 - acc: 0.6581 - val_loss: 1.3923 - val_acc: 0.5253\n",
      "\n",
      "Epoch 00004: val_loss did not improve from 1.32388\n",
      "Epoch 5/50\n",
      " - 4s - loss: 0.8847 - acc: 0.6716 - val_loss: 1.5570 - val_acc: 0.5254\n",
      "\n",
      "Epoch 00005: val_loss did not improve from 1.32388\n",
      "Epoch 6/50\n",
      " - 4s - loss: 0.8563 - acc: 0.6789 - val_loss: 1.2983 - val_acc: 0.5324\n",
      "\n",
      "Epoch 00006: val_loss improved from 1.32388 to 1.29833, saving model to CNN_emotion.model.best.hdf5\n",
      "Epoch 7/50\n",
      " - 4s - loss: 0.8250 - acc: 0.6910 - val_loss: 1.3539 - val_acc: 0.5301\n",
      "\n",
      "Epoch 00007: val_loss did not improve from 1.29833\n",
      "Epoch 8/50\n",
      " - 4s - loss: 0.7959 - acc: 0.7056 - val_loss: 1.4386 - val_acc: 0.5164\n",
      "\n",
      "Epoch 00008: val_loss did not improve from 1.29833\n",
      "Epoch 9/50\n",
      " - 4s - loss: 0.7639 - acc: 0.7156 - val_loss: 1.4223 - val_acc: 0.5298\n",
      "\n",
      "Epoch 00009: val_loss did not improve from 1.29833\n",
      "Epoch 10/50\n",
      " - 4s - loss: 0.7455 - acc: 0.7252 - val_loss: 1.4621 - val_acc: 0.5522\n",
      "\n",
      "Epoch 00010: val_loss did not improve from 1.29833\n",
      "Epoch 11/50\n",
      " - 4s - loss: 0.7174 - acc: 0.7362 - val_loss: 1.5292 - val_acc: 0.5219\n",
      "\n",
      "Epoch 00011: val_loss did not improve from 1.29833\n",
      "Epoch 12/50\n",
      " - 4s - loss: 0.6967 - acc: 0.7424 - val_loss: 1.6325 - val_acc: 0.5378\n",
      "\n",
      "Epoch 00012: val_loss did not improve from 1.29833\n",
      "Epoch 13/50\n",
      " - 4s - loss: 0.6753 - acc: 0.7519 - val_loss: 1.5565 - val_acc: 0.5427\n",
      "\n",
      "Epoch 00013: val_loss did not improve from 1.29833\n",
      "Epoch 14/50\n",
      " - 4s - loss: 0.6539 - acc: 0.7573 - val_loss: 1.7162 - val_acc: 0.5333\n",
      "\n",
      "Epoch 00014: val_loss did not improve from 1.29833\n",
      "Epoch 15/50\n",
      " - 4s - loss: 0.6371 - acc: 0.7662 - val_loss: 1.6039 - val_acc: 0.5371\n",
      "\n",
      "Epoch 00015: val_loss did not improve from 1.29833\n",
      "Epoch 16/50\n",
      " - 4s - loss: 0.6068 - acc: 0.7785 - val_loss: 1.7866 - val_acc: 0.5472\n",
      "\n",
      "Epoch 00016: val_loss did not improve from 1.29833\n",
      "Epoch 17/50\n",
      " - 4s - loss: 0.6007 - acc: 0.7817 - val_loss: 1.6201 - val_acc: 0.5378\n",
      "\n",
      "Epoch 00017: val_loss did not improve from 1.29833\n",
      "Epoch 18/50\n",
      " - 4s - loss: 0.5727 - acc: 0.7937 - val_loss: 1.6911 - val_acc: 0.5045\n",
      "\n",
      "Epoch 00018: val_loss did not improve from 1.29833\n",
      "Epoch 19/50\n",
      " - 4s - loss: 0.5584 - acc: 0.7958 - val_loss: 1.8860 - val_acc: 0.5106\n",
      "\n",
      "Epoch 00019: val_loss did not improve from 1.29833\n",
      "Epoch 20/50\n",
      " - 4s - loss: 0.5516 - acc: 0.8031 - val_loss: 1.8075 - val_acc: 0.5324\n",
      "\n",
      "Epoch 00020: val_loss did not improve from 1.29833\n",
      "Epoch 21/50\n",
      " - 4s - loss: 0.5292 - acc: 0.8060 - val_loss: 1.9108 - val_acc: 0.4976\n",
      "\n",
      "Epoch 00021: val_loss did not improve from 1.29833\n",
      "Epoch 22/50\n",
      " - 4s - loss: 0.5192 - acc: 0.8140 - val_loss: 1.8431 - val_acc: 0.5218\n",
      "\n",
      "Epoch 00022: val_loss did not improve from 1.29833\n",
      "Epoch 23/50\n",
      " - 4s - loss: 0.4988 - acc: 0.8209 - val_loss: 1.9336 - val_acc: 0.5103\n",
      "\n",
      "Epoch 00023: val_loss did not improve from 1.29833\n",
      "Epoch 24/50\n",
      " - 4s - loss: 0.4979 - acc: 0.8210 - val_loss: 1.8758 - val_acc: 0.5244\n",
      "\n",
      "Epoch 00024: val_loss did not improve from 1.29833\n",
      "Epoch 25/50\n",
      " - 4s - loss: 0.4932 - acc: 0.8261 - val_loss: 1.7744 - val_acc: 0.5239\n",
      "\n",
      "Epoch 00025: val_loss did not improve from 1.29833\n",
      "Epoch 26/50\n",
      " - 4s - loss: 0.4683 - acc: 0.8326 - val_loss: 1.9249 - val_acc: 0.5061\n",
      "\n",
      "Epoch 00026: val_loss did not improve from 1.29833\n",
      "Epoch 27/50\n",
      " - 4s - loss: 0.4708 - acc: 0.8326 - val_loss: 2.2086 - val_acc: 0.5381\n",
      "\n",
      "Epoch 00027: val_loss did not improve from 1.29833\n",
      "Epoch 28/50\n",
      " - 4s - loss: 0.4604 - acc: 0.8361 - val_loss: 2.3596 - val_acc: 0.5204\n",
      "\n",
      "Epoch 00028: val_loss did not improve from 1.29833\n",
      "Epoch 29/50\n",
      " - 4s - loss: 0.4449 - acc: 0.8409 - val_loss: 1.9673 - val_acc: 0.5104\n",
      "\n",
      "Epoch 00029: val_loss did not improve from 1.29833\n",
      "Epoch 30/50\n",
      " - 4s - loss: 0.4363 - acc: 0.8454 - val_loss: 1.9002 - val_acc: 0.5364\n",
      "\n",
      "Epoch 00030: val_loss did not improve from 1.29833\n",
      "Epoch 31/50\n",
      " - 4s - loss: 0.4257 - acc: 0.8507 - val_loss: 2.5342 - val_acc: 0.5075\n",
      "\n",
      "Epoch 00031: val_loss did not improve from 1.29833\n",
      "Epoch 32/50\n",
      " - 4s - loss: 0.4270 - acc: 0.8522 - val_loss: 2.1734 - val_acc: 0.5338\n",
      "\n",
      "Epoch 00032: val_loss did not improve from 1.29833\n",
      "Epoch 33/50\n",
      " - 4s - loss: 0.4158 - acc: 0.8540 - val_loss: 2.3594 - val_acc: 0.5258\n",
      "\n",
      "Epoch 00033: val_loss did not improve from 1.29833\n",
      "Epoch 34/50\n",
      " - 4s - loss: 0.4048 - acc: 0.8574 - val_loss: 2.8953 - val_acc: 0.5251\n",
      "\n",
      "Epoch 00034: val_loss did not improve from 1.29833\n",
      "Epoch 35/50\n",
      " - 4s - loss: 0.4070 - acc: 0.8601 - val_loss: 2.1630 - val_acc: 0.5120\n",
      "\n",
      "Epoch 00035: val_loss did not improve from 1.29833\n",
      "Epoch 36/50\n",
      " - 4s - loss: 0.4006 - acc: 0.8632 - val_loss: 2.0823 - val_acc: 0.5225\n",
      "\n",
      "Epoch 00036: val_loss did not improve from 1.29833\n",
      "Epoch 37/50\n",
      " - 4s - loss: 0.4002 - acc: 0.8618 - val_loss: 2.5552 - val_acc: 0.5279\n",
      "\n",
      "Epoch 00037: val_loss did not improve from 1.29833\n",
      "Epoch 38/50\n",
      " - 4s - loss: 0.3909 - acc: 0.8659 - val_loss: 2.5954 - val_acc: 0.5258\n",
      "\n",
      "Epoch 00038: val_loss did not improve from 1.29833\n",
      "Epoch 39/50\n",
      " - 4s - loss: 0.3770 - acc: 0.8659 - val_loss: 2.1925 - val_acc: 0.5326\n",
      "\n",
      "Epoch 00039: val_loss did not improve from 1.29833\n",
      "Epoch 40/50\n",
      " - 4s - loss: 0.3769 - acc: 0.8715 - val_loss: 2.2578 - val_acc: 0.5305\n",
      "\n",
      "Epoch 00040: val_loss did not improve from 1.29833\n",
      "Epoch 41/50\n",
      " - 4s - loss: 0.3770 - acc: 0.8704 - val_loss: 2.3248 - val_acc: 0.5296\n",
      "\n",
      "Epoch 00041: val_loss did not improve from 1.29833\n",
      "Epoch 42/50\n",
      " - 4s - loss: 0.3733 - acc: 0.8699 - val_loss: 2.2798 - val_acc: 0.5247\n",
      "\n",
      "Epoch 00042: val_loss did not improve from 1.29833\n",
      "Epoch 43/50\n",
      " - 4s - loss: 0.3711 - acc: 0.8734 - val_loss: 2.4174 - val_acc: 0.5150\n",
      "\n",
      "Epoch 00043: val_loss did not improve from 1.29833\n",
      "Epoch 44/50\n",
      " - 4s - loss: 0.3709 - acc: 0.8741 - val_loss: 2.3603 - val_acc: 0.5300\n",
      "\n",
      "Epoch 00044: val_loss did not improve from 1.29833\n",
      "Epoch 45/50\n",
      " - 4s - loss: 0.3740 - acc: 0.8747 - val_loss: 2.8606 - val_acc: 0.5327\n",
      "\n",
      "Epoch 00045: val_loss did not improve from 1.29833\n",
      "Epoch 46/50\n",
      " - 4s - loss: 0.3632 - acc: 0.8771 - val_loss: 2.9305 - val_acc: 0.5308\n",
      "\n",
      "Epoch 00046: val_loss did not improve from 1.29833\n",
      "Epoch 47/50\n",
      " - 4s - loss: 0.3805 - acc: 0.8722 - val_loss: 2.3925 - val_acc: 0.5406\n",
      "\n",
      "Epoch 00047: val_loss did not improve from 1.29833\n",
      "Epoch 48/50\n",
      " - 4s - loss: 0.3705 - acc: 0.8762 - val_loss: 2.2211 - val_acc: 0.5221\n",
      "\n",
      "Epoch 00048: val_loss did not improve from 1.29833\n",
      "Epoch 49/50\n",
      " - 4s - loss: 0.3578 - acc: 0.8778 - val_loss: 2.4543 - val_acc: 0.5277\n",
      "\n",
      "Epoch 00049: val_loss did not improve from 1.29833\n",
      "Epoch 50/50\n",
      " - 4s - loss: 0.3604 - acc: 0.8792 - val_loss: 2.4107 - val_acc: 0.5237\n",
      "\n",
      "Epoch 00050: val_loss did not improve from 1.29833\n"
     ]
    }
   ],
   "source": [
    "from keras.callbacks import ModelCheckpoint   \n",
    "\n",
    "# train the model\n",
    "checkpointer = ModelCheckpoint(filepath='CNN_emotion.model.best.hdf5', verbose=1, \n",
    "                               save_best_only=True)\n",
    "hist = model.fit(X_train, y_train, batch_size=128, epochs=50,\n",
    "          validation_data=(X_valid, y_valid), callbacks=[checkpointer], \n",
    "          verbose=2, shuffle=True)"
   ]
  },
  {
   "cell_type": "code",
   "execution_count": 106,
   "metadata": {},
   "outputs": [
    {
     "data": {
      "image/png": "[encoded data removed]",
      "text/plain": [
       "<Figure size 432x288 with 2 Axes>"
      ]
     },
     "metadata": {},
     "output_type": "display_data"
    }
   ],
   "source": [
    "model.load_weights('CNN_emotion.model.best.hdf5')\n",
    "prediction = np.argmax(model.predict(X_test), axis=1)\n",
    "true = np.argmax(y_test, axis = 1)\n",
    "conf_matrix(true, prediction)"
   ]
  },
  {
   "cell_type": "code",
   "execution_count": 107,
   "metadata": {},
   "outputs": [
    {
     "name": "stdout",
     "output_type": "stream",
     "text": [
      "0: Angry 0.6682738798205997\n",
      "1: Disgust 0.6118496445911273\n",
      "2: Fear 0.6308749263690283\n",
      "3: Happy 0.8328846384458568\n",
      "4: Sad 0.6813787209343385\n",
      "5: Surprise 0.8036155534650361\n",
      "6: Neutral 0.6692728082660611\n"
     ]
    }
   ],
   "source": [
    "roc_auc(prediction, true, 7)"
   ]
  },
  {
   "cell_type": "markdown",
   "metadata": {},
   "source": [
    "## Data Augmentation\n",
    "## Making the model\n",
    "- Scale invariant\n",
    "- Rotation invariant\n",
    "- Translation ivariant\n",
    "- https://machinelearningmastery.com/image-augmentation-deep-learning-keras/"
   ]
  },
  {
   "cell_type": "code",
   "execution_count": 116,
   "metadata": {},
   "outputs": [
    {
     "name": "stdout",
     "output_type": "stream",
     "text": [
      "_________________________________________________________________\n",
      "Layer (type)                 Output Shape              Param #   \n",
      "=================================================================\n",
      "conv2d_23 (Conv2D)           (None, 48, 48, 16)        80        \n",
      "_________________________________________________________________\n",
      "max_pooling2d_23 (MaxPooling (None, 24, 24, 16)        0         \n",
      "_________________________________________________________________\n",
      "conv2d_24 (Conv2D)           (None, 24, 24, 32)        2080      \n",
      "_________________________________________________________________\n",
      "max_pooling2d_24 (MaxPooling (None, 12, 12, 32)        0         \n",
      "_________________________________________________________________\n",
      "conv2d_25 (Conv2D)           (None, 12, 12, 64)        8256      \n",
      "_________________________________________________________________\n",
      "max_pooling2d_25 (MaxPooling (None, 6, 6, 64)          0         \n",
      "_________________________________________________________________\n",
      "conv2d_26 (Conv2D)           (None, 6, 6, 128)         32896     \n",
      "_________________________________________________________________\n",
      "max_pooling2d_26 (MaxPooling (None, 3, 3, 128)         0         \n",
      "_________________________________________________________________\n",
      "conv2d_27 (Conv2D)           (None, 3, 3, 256)         131328    \n",
      "_________________________________________________________________\n",
      "max_pooling2d_27 (MaxPooling (None, 1, 1, 256)         0         \n",
      "_________________________________________________________________\n",
      "dropout_22 (Dropout)         (None, 1, 1, 256)         0         \n",
      "_________________________________________________________________\n",
      "flatten_8 (Flatten)          (None, 256)               0         \n",
      "_________________________________________________________________\n",
      "dense_24 (Dense)             (None, 500)               128500    \n",
      "_________________________________________________________________\n",
      "dropout_23 (Dropout)         (None, 500)               0         \n",
      "_________________________________________________________________\n",
      "dense_25 (Dense)             (None, 200)               100200    \n",
      "_________________________________________________________________\n",
      "dropout_24 (Dropout)         (None, 200)               0         \n",
      "_________________________________________________________________\n",
      "dense_26 (Dense)             (None, 7)                 1407      \n",
      "=================================================================\n",
      "Total params: 404,747\n",
      "Trainable params: 404,747\n",
      "Non-trainable params: 0\n",
      "_________________________________________________________________\n"
     ]
    }
   ],
   "source": [
    "from keras.models import Sequential\n",
    "from keras.layers import Conv2D, MaxPooling2D, Flatten, Dense, Dropout\n",
    "\n",
    "model = Sequential()\n",
    "model.add(Conv2D(filters=16, kernel_size=2, padding='same', activation='relu', \n",
    "                        input_shape=X_train.shape[1:]))\n",
    "model.add(MaxPooling2D(pool_size=2))\n",
    "model.add(Conv2D(filters=32, kernel_size=2, padding='same', activation='relu'))\n",
    "model.add(MaxPooling2D(pool_size=2))\n",
    "model.add(Conv2D(filters=64, kernel_size=2, padding='same', activation='relu'))\n",
    "model.add(MaxPooling2D(pool_size=2))\n",
    "model.add(Conv2D(filters=128, kernel_size=2, padding='same', activation='relu'))\n",
    "model.add(MaxPooling2D(pool_size=2))\n",
    "model.add(Conv2D(filters=256, kernel_size=2, padding='same', activation='relu'))\n",
    "model.add(MaxPooling2D(pool_size=2))\n",
    "model.add(Dropout(0.3))\n",
    "model.add(Flatten())\n",
    "model.add(Dense(500, activation='relu'))\n",
    "model.add(Dropout(0.4))\n",
    "model.add(Dense(200, activation='relu'))\n",
    "model.add(Dropout(0.4))\n",
    "model.add(Dense(7, activation='softmax'))\n",
    "\n",
    "model.summary()"
   ]
  },
  {
   "cell_type": "code",
   "execution_count": 117,
   "metadata": {},
   "outputs": [],
   "source": [
    "# compile the model\n",
    "model.compile(loss='categorical_crossentropy', optimizer='rmsprop', \n",
    "                  metrics=['accuracy'])"
   ]
  },
  {
   "cell_type": "code",
   "execution_count": 118,
   "metadata": {},
   "outputs": [
    {
     "name": "stdout",
     "output_type": "stream",
     "text": [
      "Epoch 1/50\n",
      " - 14s - loss: 1.8236 - acc: 0.2445 - val_loss: 1.8093 - val_acc: 0.2506\n",
      "\n",
      "Epoch 00001: val_loss improved from inf to 1.80933, saving model to auf_model.weights.best.hdf5\n",
      "Epoch 2/50\n",
      " - 12s - loss: 1.7864 - acc: 0.2576 - val_loss: 1.7232 - val_acc: 0.2846\n",
      "\n",
      "Epoch 00002: val_loss improved from 1.80933 to 1.72320, saving model to auf_model.weights.best.hdf5\n",
      "Epoch 3/50\n",
      " - 12s - loss: 1.7209 - acc: 0.2972 - val_loss: 1.6450 - val_acc: 0.3422\n",
      "\n",
      "Epoch 00003: val_loss improved from 1.72320 to 1.64500, saving model to auf_model.weights.best.hdf5\n",
      "Epoch 4/50\n",
      " - 12s - loss: 1.6577 - acc: 0.3427 - val_loss: 1.6194 - val_acc: 0.3553\n",
      "\n",
      "Epoch 00004: val_loss improved from 1.64500 to 1.61942, saving model to auf_model.weights.best.hdf5\n",
      "Epoch 5/50\n",
      " - 12s - loss: 1.6140 - acc: 0.3598 - val_loss: 1.5577 - val_acc: 0.3901\n",
      "\n",
      "Epoch 00005: val_loss improved from 1.61942 to 1.55772, saving model to auf_model.weights.best.hdf5\n",
      "Epoch 6/50\n",
      " - 12s - loss: 1.5749 - acc: 0.3854 - val_loss: 1.4948 - val_acc: 0.4277\n",
      "\n",
      "Epoch 00006: val_loss improved from 1.55772 to 1.49485, saving model to auf_model.weights.best.hdf5\n",
      "Epoch 7/50\n",
      " - 12s - loss: 1.5346 - acc: 0.4039 - val_loss: 1.5177 - val_acc: 0.4042\n",
      "\n",
      "Epoch 00007: val_loss did not improve from 1.49485\n",
      "Epoch 8/50\n",
      " - 12s - loss: 1.5039 - acc: 0.4157 - val_loss: 1.5105 - val_acc: 0.4188\n",
      "\n",
      "Epoch 00008: val_loss did not improve from 1.49485\n",
      "Epoch 9/50\n",
      " - 12s - loss: 1.4698 - acc: 0.4335 - val_loss: 1.3951 - val_acc: 0.4572\n",
      "\n",
      "Epoch 00009: val_loss improved from 1.49485 to 1.39507, saving model to auf_model.weights.best.hdf5\n",
      "Epoch 10/50\n",
      " - 12s - loss: 1.4389 - acc: 0.4476 - val_loss: 1.3652 - val_acc: 0.4741\n",
      "\n",
      "Epoch 00010: val_loss improved from 1.39507 to 1.36516, saving model to auf_model.weights.best.hdf5\n",
      "Epoch 11/50\n",
      " - 12s - loss: 1.4122 - acc: 0.4594 - val_loss: 1.3345 - val_acc: 0.4913\n",
      "\n",
      "Epoch 00011: val_loss improved from 1.36516 to 1.33446, saving model to auf_model.weights.best.hdf5\n",
      "Epoch 12/50\n",
      " - 12s - loss: 1.3970 - acc: 0.4633 - val_loss: 1.3798 - val_acc: 0.4599\n",
      "\n",
      "Epoch 00012: val_loss did not improve from 1.33446\n",
      "Epoch 13/50\n",
      " - 12s - loss: 1.3820 - acc: 0.4676 - val_loss: 1.3170 - val_acc: 0.4944\n",
      "\n",
      "Epoch 00013: val_loss improved from 1.33446 to 1.31701, saving model to auf_model.weights.best.hdf5\n",
      "Epoch 14/50\n",
      " - 12s - loss: 1.3684 - acc: 0.4761 - val_loss: 1.3009 - val_acc: 0.4958\n",
      "\n",
      "Epoch 00014: val_loss improved from 1.31701 to 1.30095, saving model to auf_model.weights.best.hdf5\n",
      "Epoch 15/50\n",
      " - 12s - loss: 1.3523 - acc: 0.4823 - val_loss: 1.3006 - val_acc: 0.5101\n",
      "\n",
      "Epoch 00015: val_loss improved from 1.30095 to 1.30059, saving model to auf_model.weights.best.hdf5\n",
      "Epoch 16/50\n",
      " - 12s - loss: 1.3372 - acc: 0.4873 - val_loss: 1.3063 - val_acc: 0.4993\n",
      "\n",
      "Epoch 00016: val_loss did not improve from 1.30059\n",
      "Epoch 17/50\n",
      " - 12s - loss: 1.3242 - acc: 0.4937 - val_loss: 1.2624 - val_acc: 0.5139\n",
      "\n",
      "Epoch 00017: val_loss improved from 1.30059 to 1.26242, saving model to auf_model.weights.best.hdf5\n",
      "Epoch 18/50\n",
      " - 12s - loss: 1.3033 - acc: 0.5043 - val_loss: 1.2463 - val_acc: 0.5294\n",
      "\n",
      "Epoch 00018: val_loss improved from 1.26242 to 1.24632, saving model to auf_model.weights.best.hdf5\n",
      "Epoch 19/50\n",
      " - 12s - loss: 1.3001 - acc: 0.5057 - val_loss: 1.2546 - val_acc: 0.5181\n",
      "\n",
      "Epoch 00019: val_loss did not improve from 1.24632\n",
      "Epoch 20/50\n",
      " - 12s - loss: 1.2879 - acc: 0.5116 - val_loss: 1.2388 - val_acc: 0.5301\n",
      "\n",
      "Epoch 00020: val_loss improved from 1.24632 to 1.23883, saving model to auf_model.weights.best.hdf5\n",
      "Epoch 21/50\n",
      " - 13s - loss: 1.2718 - acc: 0.5182 - val_loss: 1.2981 - val_acc: 0.5059\n",
      "\n",
      "Epoch 00021: val_loss did not improve from 1.23883\n",
      "Epoch 22/50\n",
      " - 12s - loss: 1.2740 - acc: 0.5174 - val_loss: 1.2305 - val_acc: 0.5272\n",
      "\n",
      "Epoch 00022: val_loss improved from 1.23883 to 1.23054, saving model to auf_model.weights.best.hdf5\n",
      "Epoch 23/50\n",
      " - 12s - loss: 1.2642 - acc: 0.5236 - val_loss: 1.2062 - val_acc: 0.5354\n",
      "\n",
      "Epoch 00023: val_loss improved from 1.23054 to 1.20619, saving model to auf_model.weights.best.hdf5\n",
      "Epoch 24/50\n",
      " - 12s - loss: 1.2627 - acc: 0.5212 - val_loss: 1.2306 - val_acc: 0.5294\n",
      "\n",
      "Epoch 00024: val_loss did not improve from 1.20619\n",
      "Epoch 25/50\n",
      " - 12s - loss: 1.2542 - acc: 0.5228 - val_loss: 1.2235 - val_acc: 0.5150\n",
      "\n",
      "Epoch 00025: val_loss did not improve from 1.20619\n",
      "Epoch 26/50\n",
      " - 12s - loss: 1.2441 - acc: 0.5327 - val_loss: 1.2583 - val_acc: 0.5143\n",
      "\n",
      "Epoch 00026: val_loss did not improve from 1.20619\n",
      "Epoch 27/50\n",
      " - 12s - loss: 1.2435 - acc: 0.5323 - val_loss: 1.2342 - val_acc: 0.5199\n",
      "\n",
      "Epoch 00027: val_loss did not improve from 1.20619\n",
      "Epoch 28/50\n",
      " - 12s - loss: 1.2256 - acc: 0.5411 - val_loss: 1.2132 - val_acc: 0.5324\n",
      "\n",
      "Epoch 00028: val_loss did not improve from 1.20619\n",
      "Epoch 29/50\n",
      " - 12s - loss: 1.2264 - acc: 0.5339 - val_loss: 1.1929 - val_acc: 0.5465\n",
      "\n",
      "Epoch 00029: val_loss improved from 1.20619 to 1.19288, saving model to auf_model.weights.best.hdf5\n",
      "Epoch 30/50\n",
      " - 12s - loss: 1.2289 - acc: 0.5367 - val_loss: 1.1868 - val_acc: 0.5575\n",
      "\n",
      "Epoch 00030: val_loss improved from 1.19288 to 1.18681, saving model to auf_model.weights.best.hdf5\n",
      "Epoch 31/50\n",
      " - 12s - loss: 1.2242 - acc: 0.5367 - val_loss: 1.2200 - val_acc: 0.5336\n",
      "\n",
      "Epoch 00031: val_loss did not improve from 1.18681\n",
      "Epoch 32/50\n",
      " - 12s - loss: 1.2256 - acc: 0.5410 - val_loss: 1.1706 - val_acc: 0.5540\n",
      "\n",
      "Epoch 00032: val_loss improved from 1.18681 to 1.17062, saving model to auf_model.weights.best.hdf5\n",
      "Epoch 33/50\n",
      " - 12s - loss: 1.2168 - acc: 0.5402 - val_loss: 1.1689 - val_acc: 0.5517\n",
      "\n",
      "Epoch 00033: val_loss improved from 1.17062 to 1.16893, saving model to auf_model.weights.best.hdf5\n",
      "Epoch 34/50\n",
      " - 12s - loss: 1.2064 - acc: 0.5451 - val_loss: 1.1806 - val_acc: 0.5488\n",
      "\n",
      "Epoch 00034: val_loss did not improve from 1.16893\n",
      "Epoch 35/50\n",
      " - 12s - loss: 1.2096 - acc: 0.5473 - val_loss: 1.1772 - val_acc: 0.5568\n",
      "\n",
      "Epoch 00035: val_loss did not improve from 1.16893\n",
      "Epoch 36/50\n",
      " - 12s - loss: 1.2097 - acc: 0.5458 - val_loss: 1.1949 - val_acc: 0.5420\n",
      "\n",
      "Epoch 00036: val_loss did not improve from 1.16893\n",
      "Epoch 37/50\n",
      " - 12s - loss: 1.2031 - acc: 0.5492 - val_loss: 1.1754 - val_acc: 0.5489\n",
      "\n",
      "Epoch 00037: val_loss did not improve from 1.16893\n",
      "Epoch 38/50\n",
      " - 12s - loss: 1.2073 - acc: 0.5444 - val_loss: 1.2509 - val_acc: 0.5207\n",
      "\n",
      "Epoch 00038: val_loss did not improve from 1.16893\n",
      "Epoch 39/50\n",
      " - 12s - loss: 1.2014 - acc: 0.5489 - val_loss: 1.1939 - val_acc: 0.5482\n",
      "\n",
      "Epoch 00039: val_loss did not improve from 1.16893\n",
      "Epoch 40/50\n",
      " - 12s - loss: 1.1963 - acc: 0.5521 - val_loss: 1.1720 - val_acc: 0.5495\n",
      "\n",
      "Epoch 00040: val_loss did not improve from 1.16893\n",
      "Epoch 41/50\n",
      " - 12s - loss: 1.2007 - acc: 0.5454 - val_loss: 1.2160 - val_acc: 0.5355\n",
      "\n",
      "Epoch 00041: val_loss did not improve from 1.16893\n",
      "Epoch 42/50\n",
      " - 12s - loss: 1.1886 - acc: 0.5564 - val_loss: 1.1893 - val_acc: 0.5468\n",
      "\n",
      "Epoch 00042: val_loss did not improve from 1.16893\n",
      "Epoch 43/50\n",
      " - 12s - loss: 1.1915 - acc: 0.5523 - val_loss: 1.1527 - val_acc: 0.5604\n",
      "\n",
      "Epoch 00043: val_loss improved from 1.16893 to 1.15269, saving model to auf_model.weights.best.hdf5\n",
      "Epoch 44/50\n",
      " - 12s - loss: 1.1898 - acc: 0.5517 - val_loss: 1.1648 - val_acc: 0.5608\n",
      "\n",
      "Epoch 00044: val_loss did not improve from 1.15269\n",
      "Epoch 45/50\n",
      " - 12s - loss: 1.1962 - acc: 0.5532 - val_loss: 1.1732 - val_acc: 0.5542\n",
      "\n",
      "Epoch 00045: val_loss did not improve from 1.15269\n",
      "Epoch 46/50\n",
      " - 12s - loss: 1.1920 - acc: 0.5561 - val_loss: 1.1627 - val_acc: 0.5592\n",
      "\n",
      "Epoch 00046: val_loss did not improve from 1.15269\n",
      "Epoch 47/50\n",
      " - 12s - loss: 1.1941 - acc: 0.5502 - val_loss: 1.1538 - val_acc: 0.5639\n",
      "\n",
      "Epoch 00047: val_loss did not improve from 1.15269\n",
      "Epoch 48/50\n",
      " - 12s - loss: 1.1801 - acc: 0.5562 - val_loss: 1.2299 - val_acc: 0.5392\n",
      "\n",
      "Epoch 00048: val_loss did not improve from 1.15269\n",
      "Epoch 49/50\n",
      " - 12s - loss: 1.1841 - acc: 0.5525 - val_loss: 1.2149 - val_acc: 0.5385\n",
      "\n",
      "Epoch 00049: val_loss did not improve from 1.15269\n",
      "Epoch 50/50\n",
      " - 12s - loss: 1.1843 - acc: 0.5588 - val_loss: 1.1532 - val_acc: 0.5625\n",
      "\n",
      "Epoch 00050: val_loss did not improve from 1.15269\n"
     ]
    },
    {
     "data": {
      "text/plain": [
       "<keras.callbacks.History at 0x207af00d7b8>"
      ]
     },
     "execution_count": 118,
     "metadata": {},
     "output_type": "execute_result"
    }
   ],
   "source": [
    "#train the model using the fit_generator\n",
    "from keras.callbacks import ModelCheckpoint\n",
    "\n",
    "from keras.preprocessing.image import ImageDataGenerator\n",
    "\n",
    "datagen = ImageDataGenerator(width_shift_range=0.1, height_shift_range=0.1, horizontal_flip=True)\n",
    "#datagen = ImageDataGenerator(featurewise_center=True, featurewise_std_normalization=True)\n",
    "#datagen = ImageDataGenerator(zca_whitening=True)\n",
    "#datagen = ImageDataGenerator(rotation_range=90)\n",
    "\n",
    "batch_size = 128\n",
    "epochs = 50\n",
    "\n",
    "checkpointer = ModelCheckpoint(filepath='auf_model.weights.best.hdf5', verbose=1, save_best_only=True)\n",
    "\n",
    "model.fit_generator(datagen.flow(X_train, y_train, batch_size=batch_size),\n",
    "                    steps_per_epoch=X_train.shape[0] // batch_size,\n",
    "                    epochs=epochs, verbose=2, callbacks=[checkpointer], validation_data=(X_valid, y_valid)\n",
    "                   )"
   ]
  },
  {
   "cell_type": "code",
   "execution_count": 119,
   "metadata": {},
   "outputs": [
    {
     "data": {
      "image/png": "[encoded data removed]",
      "text/plain": [
       "<Figure size 432x288 with 2 Axes>"
      ]
     },
     "metadata": {},
     "output_type": "display_data"
    }
   ],
   "source": [
    "model.load_weights('auf_model.weights.best.hdf5')\n",
    "prediction = np.argmax(model.predict(X_test), axis=1)\n",
    "true = np.argmax(y_test, axis = 1)\n",
    "conf_matrix(true, prediction)"
   ]
  },
  {
   "cell_type": "code",
   "execution_count": 120,
   "metadata": {},
   "outputs": [
    {
     "name": "stdout",
     "output_type": "stream",
     "text": [
      "0: Angry 0.6662011603706023\n",
      "1: Disgust 0.544881320561023\n",
      "2: Fear 0.6078820685732856\n",
      "3: Happy 0.8690127609777076\n",
      "4: Sad 0.6460546730168258\n",
      "5: Surprise 0.833064636249608\n",
      "6: Neutral 0.7557004367713687\n"
     ]
    }
   ],
   "source": [
    "roc_auc(prediction, true, 7)"
   ]
  },
  {
   "cell_type": "markdown",
   "metadata": {},
   "source": [
    "## ROC and AUC"
   ]
  },
  {
   "cell_type": "markdown",
   "metadata": {},
   "source": [
    "- ROC (Receiver Operating Characteristic) curve is a graphic plot that illustrates the diagnostic ability of a binary classifier system as its discrimination threshhold is varied.\n",
    "- AUC (Area Under the Curve) is the percentage of the area that is under the ROC curve. AUC ranges between 0 and 1.\n",
    "- https://hackernoon.com/simple-guide-on-how-to-generate-roc-plot-for-keras-classifier-2ecc6c73115a"
   ]
  },
  {
   "cell_type": "markdown",
   "metadata": {},
   "source": [
    "## Transfer Learning"
   ]
  },
  {
   "cell_type": "markdown",
   "metadata": {},
   "source": [
    "https://medium.com/@14prakash/transfer-learning-using-keras-d804b2e04ef8"
   ]
  },
  {
   "cell_type": "code",
   "execution_count": 44,
   "metadata": {},
   "outputs": [
    {
     "name": "stdout",
     "output_type": "stream",
     "text": [
      "_________________________________________________________________\n",
      "Layer (type)                 Output Shape              Param #   \n",
      "=================================================================\n",
      "input_9 (InputLayer)         (None, 48, 48, 3)         0         \n",
      "_________________________________________________________________\n",
      "block1_conv1 (Conv2D)        (None, 48, 48, 64)        1792      \n",
      "_________________________________________________________________\n",
      "block1_conv2 (Conv2D)        (None, 48, 48, 64)        36928     \n",
      "_________________________________________________________________\n",
      "block1_pool (MaxPooling2D)   (None, 24, 24, 64)        0         \n",
      "_________________________________________________________________\n",
      "block2_conv1 (Conv2D)        (None, 24, 24, 128)       73856     \n",
      "_________________________________________________________________\n",
      "block2_conv2 (Conv2D)        (None, 24, 24, 128)       147584    \n",
      "_________________________________________________________________\n",
      "block2_pool (MaxPooling2D)   (None, 12, 12, 128)       0         \n",
      "_________________________________________________________________\n",
      "block3_conv1 (Conv2D)        (None, 12, 12, 256)       295168    \n",
      "_________________________________________________________________\n",
      "block3_conv2 (Conv2D)        (None, 12, 12, 256)       590080    \n",
      "_________________________________________________________________\n",
      "block3_conv3 (Conv2D)        (None, 12, 12, 256)       590080    \n",
      "_________________________________________________________________\n",
      "block3_pool (MaxPooling2D)   (None, 6, 6, 256)         0         \n",
      "_________________________________________________________________\n",
      "block4_conv1 (Conv2D)        (None, 6, 6, 512)         1180160   \n",
      "_________________________________________________________________\n",
      "block4_conv2 (Conv2D)        (None, 6, 6, 512)         2359808   \n",
      "_________________________________________________________________\n",
      "block4_conv3 (Conv2D)        (None, 6, 6, 512)         2359808   \n",
      "_________________________________________________________________\n",
      "block4_pool (MaxPooling2D)   (None, 3, 3, 512)         0         \n",
      "_________________________________________________________________\n",
      "block5_conv1 (Conv2D)        (None, 3, 3, 512)         2359808   \n",
      "_________________________________________________________________\n",
      "block5_conv2 (Conv2D)        (None, 3, 3, 512)         2359808   \n",
      "_________________________________________________________________\n",
      "block5_conv3 (Conv2D)        (None, 3, 3, 512)         2359808   \n",
      "_________________________________________________________________\n",
      "block5_pool (MaxPooling2D)   (None, 1, 1, 512)         0         \n",
      "=================================================================\n",
      "Total params: 14,714,688\n",
      "Trainable params: 14,714,688\n",
      "Non-trainable params: 0\n",
      "_________________________________________________________________\n"
     ]
    }
   ],
   "source": [
    "from keras.applications.vgg16 import VGG16\n",
    "from keras.models import Sequential, Model\n",
    "from keras.layers import Conv2D, MaxPooling2D, Flatten, Dense, Dropout, GlobalAveragePooling2D\n",
    "\n",
    "X_train_3dim = np.resize(X_train, (28709, 48, 48, 3))\n",
    "X_train_3dim.shape\n",
    "\n",
    "model = VGG16(weights='imagenet', include_top=False, input_shape=X_train_3dim.shape[1:])\n",
    "model.summary()"
   ]
  },
  {
   "cell_type": "code",
   "execution_count": 45,
   "metadata": {},
   "outputs": [],
   "source": [
    "#do not train the weights of the VGG architecture\n",
    "for layer in model.layers:\n",
    "    layer.trainable = False"
   ]
  },
  {
   "cell_type": "code",
   "execution_count": 46,
   "metadata": {},
   "outputs": [],
   "source": [
    "output = model.output\n",
    "x = GlobalAveragePooling2D()(output)\n",
    "x = Dense(1024, activation=\"relu\")(x)\n",
    "x = Dropout(0.5)(x)\n",
    "x = Dense(1024, activation=\"relu\")(x)\n",
    "predictions = Dense(7, activation=\"softmax\")(x)"
   ]
  },
  {
   "cell_type": "code",
   "execution_count": 49,
   "metadata": {},
   "outputs": [
    {
     "name": "stderr",
     "output_type": "stream",
     "text": [
      "c:\\users\\avadi\\appdata\\local\\programs\\python\\python36\\lib\\site-packages\\ipykernel_launcher.py:1: UserWarning: Update your `Model` call to the Keras 2 API: `Model(inputs=Tensor(\"in..., outputs=Tensor(\"de...)`\n",
      "  \"\"\"Entry point for launching an IPython kernel.\n"
     ]
    }
   ],
   "source": [
    "model_final = Model(input = model.input, output = predictions)"
   ]
  },
  {
   "cell_type": "code",
   "execution_count": 51,
   "metadata": {},
   "outputs": [],
   "source": [
    "from keras import optimizers\n",
    "model_final.compile(loss = \"categorical_crossentropy\", optimizer = optimizers.SGD(lr=0.0001, momentum=0.9), metrics=[\"accuracy\"])"
   ]
  },
  {
   "cell_type": "code",
   "execution_count": 53,
   "metadata": {},
   "outputs": [
    {
     "name": "stdout",
     "output_type": "stream",
     "text": [
      "Train on 22967 samples, validate on 5742 samples\n",
      "Epoch 1/50\n",
      " - 19s - loss: 1.8980 - acc: 0.2120 - val_loss: 1.8197 - val_acc: 0.2510\n",
      "\n",
      "Epoch 00001: val_loss improved from inf to 1.81974, saving model to Transfer_emotion.model.best.hdf5\n",
      "Epoch 2/50\n",
      " - 13s - loss: 1.8527 - acc: 0.2214 - val_loss: 1.8152 - val_acc: 0.2459\n",
      "\n",
      "Epoch 00002: val_loss improved from 1.81974 to 1.81516, saving model to Transfer_emotion.model.best.hdf5\n",
      "Epoch 3/50\n",
      " - 13s - loss: 1.8457 - acc: 0.2221 - val_loss: 1.8114 - val_acc: 0.2558\n",
      "\n",
      "Epoch 00003: val_loss improved from 1.81516 to 1.81137, saving model to Transfer_emotion.model.best.hdf5\n",
      "Epoch 4/50\n",
      " - 13s - loss: 1.8475 - acc: 0.2208 - val_loss: 1.8111 - val_acc: 0.2546\n",
      "\n",
      "Epoch 00004: val_loss improved from 1.81137 to 1.81108, saving model to Transfer_emotion.model.best.hdf5\n",
      "Epoch 5/50\n",
      " - 14s - loss: 1.8421 - acc: 0.2230 - val_loss: 1.8110 - val_acc: 0.2550\n",
      "\n",
      "Epoch 00005: val_loss improved from 1.81108 to 1.81100, saving model to Transfer_emotion.model.best.hdf5\n",
      "Epoch 6/50\n",
      " - 14s - loss: 1.8396 - acc: 0.2269 - val_loss: 1.8103 - val_acc: 0.2557\n",
      "\n",
      "Epoch 00006: val_loss improved from 1.81100 to 1.81029, saving model to Transfer_emotion.model.best.hdf5\n",
      "Epoch 7/50\n",
      " - 14s - loss: 1.8409 - acc: 0.2232 - val_loss: 1.8105 - val_acc: 0.2551\n",
      "\n",
      "Epoch 00007: val_loss did not improve from 1.81029\n",
      "Epoch 8/50\n",
      " - 14s - loss: 1.8355 - acc: 0.2292 - val_loss: 1.8097 - val_acc: 0.2544\n",
      "\n",
      "Epoch 00008: val_loss improved from 1.81029 to 1.80972, saving model to Transfer_emotion.model.best.hdf5\n",
      "Epoch 9/50\n",
      " - 14s - loss: 1.8379 - acc: 0.2255 - val_loss: 1.8103 - val_acc: 0.2544\n",
      "\n",
      "Epoch 00009: val_loss did not improve from 1.80972\n",
      "Epoch 10/50\n",
      " - 14s - loss: 1.8365 - acc: 0.2294 - val_loss: 1.8098 - val_acc: 0.2548\n",
      "\n",
      "Epoch 00010: val_loss did not improve from 1.80972\n",
      "Epoch 11/50\n",
      " - 14s - loss: 1.8337 - acc: 0.2297 - val_loss: 1.8099 - val_acc: 0.2558\n",
      "\n",
      "Epoch 00011: val_loss did not improve from 1.80972\n",
      "Epoch 12/50\n",
      " - 14s - loss: 1.8336 - acc: 0.2288 - val_loss: 1.8090 - val_acc: 0.2558\n",
      "\n",
      "Epoch 00012: val_loss improved from 1.80972 to 1.80903, saving model to Transfer_emotion.model.best.hdf5\n",
      "Epoch 13/50\n",
      " - 14s - loss: 1.8320 - acc: 0.2347 - val_loss: 1.8091 - val_acc: 0.2560\n",
      "\n",
      "Epoch 00013: val_loss did not improve from 1.80903\n",
      "Epoch 14/50\n",
      " - 14s - loss: 1.8332 - acc: 0.2323 - val_loss: 1.8093 - val_acc: 0.2558\n",
      "\n",
      "Epoch 00014: val_loss did not improve from 1.80903\n",
      "Epoch 15/50\n",
      " - 14s - loss: 1.8293 - acc: 0.2349 - val_loss: 1.8091 - val_acc: 0.2564\n",
      "\n",
      "Epoch 00015: val_loss did not improve from 1.80903\n",
      "Epoch 16/50\n",
      " - 14s - loss: 1.8293 - acc: 0.2321 - val_loss: 1.8083 - val_acc: 0.2564\n",
      "\n",
      "Epoch 00016: val_loss improved from 1.80903 to 1.80828, saving model to Transfer_emotion.model.best.hdf5\n",
      "Epoch 17/50\n",
      " - 14s - loss: 1.8268 - acc: 0.2371 - val_loss: 1.8091 - val_acc: 0.2560\n",
      "\n",
      "Epoch 00017: val_loss did not improve from 1.80828\n",
      "Epoch 18/50\n",
      " - 14s - loss: 1.8256 - acc: 0.2381 - val_loss: 1.8089 - val_acc: 0.2564\n",
      "\n",
      "Epoch 00018: val_loss did not improve from 1.80828\n",
      "Epoch 19/50\n",
      " - 14s - loss: 1.8256 - acc: 0.2344 - val_loss: 1.8084 - val_acc: 0.2564\n",
      "\n",
      "Epoch 00019: val_loss did not improve from 1.80828\n",
      "Epoch 20/50\n",
      " - 14s - loss: 1.8261 - acc: 0.2368 - val_loss: 1.8087 - val_acc: 0.2565\n",
      "\n",
      "Epoch 00020: val_loss did not improve from 1.80828\n",
      "Epoch 21/50\n",
      " - 14s - loss: 1.8266 - acc: 0.2393 - val_loss: 1.8087 - val_acc: 0.2562\n",
      "\n",
      "Epoch 00021: val_loss did not improve from 1.80828\n",
      "Epoch 22/50\n",
      " - 14s - loss: 1.8240 - acc: 0.2406 - val_loss: 1.8081 - val_acc: 0.2572\n",
      "\n",
      "Epoch 00022: val_loss improved from 1.80828 to 1.80806, saving model to Transfer_emotion.model.best.hdf5\n",
      "Epoch 23/50\n",
      " - 14s - loss: 1.8239 - acc: 0.2383 - val_loss: 1.8082 - val_acc: 0.2572\n",
      "\n",
      "Epoch 00023: val_loss did not improve from 1.80806\n",
      "Epoch 24/50\n",
      " - 14s - loss: 1.8237 - acc: 0.2367 - val_loss: 1.8088 - val_acc: 0.2571\n",
      "\n",
      "Epoch 00024: val_loss did not improve from 1.80806\n",
      "Epoch 25/50\n",
      " - 14s - loss: 1.8252 - acc: 0.2368 - val_loss: 1.8088 - val_acc: 0.2574\n",
      "\n",
      "Epoch 00025: val_loss did not improve from 1.80806\n",
      "Epoch 26/50\n",
      " - 14s - loss: 1.8244 - acc: 0.2398 - val_loss: 1.8086 - val_acc: 0.2567\n",
      "\n",
      "Epoch 00026: val_loss did not improve from 1.80806\n",
      "Epoch 27/50\n",
      " - 14s - loss: 1.8212 - acc: 0.2435 - val_loss: 1.8084 - val_acc: 0.2576\n",
      "\n",
      "Epoch 00027: val_loss did not improve from 1.80806\n",
      "Epoch 28/50\n",
      " - 14s - loss: 1.8238 - acc: 0.2381 - val_loss: 1.8083 - val_acc: 0.2577\n",
      "\n",
      "Epoch 00028: val_loss did not improve from 1.80806\n",
      "Epoch 29/50\n",
      " - 14s - loss: 1.8238 - acc: 0.2392 - val_loss: 1.8078 - val_acc: 0.2577\n",
      "\n",
      "Epoch 00029: val_loss improved from 1.80806 to 1.80778, saving model to Transfer_emotion.model.best.hdf5\n",
      "Epoch 30/50\n",
      " - 14s - loss: 1.8226 - acc: 0.2396 - val_loss: 1.8078 - val_acc: 0.2579\n",
      "\n",
      "Epoch 00030: val_loss improved from 1.80778 to 1.80776, saving model to Transfer_emotion.model.best.hdf5\n",
      "Epoch 31/50\n",
      " - 14s - loss: 1.8216 - acc: 0.2415 - val_loss: 1.8082 - val_acc: 0.2581\n",
      "\n",
      "Epoch 00031: val_loss did not improve from 1.80776\n",
      "Epoch 32/50\n",
      " - 14s - loss: 1.8204 - acc: 0.2424 - val_loss: 1.8082 - val_acc: 0.2581\n",
      "\n",
      "Epoch 00032: val_loss did not improve from 1.80776\n",
      "Epoch 33/50\n",
      " - 14s - loss: 1.8216 - acc: 0.2415 - val_loss: 1.8079 - val_acc: 0.2576\n",
      "\n",
      "Epoch 00033: val_loss did not improve from 1.80776\n",
      "Epoch 34/50\n",
      " - 14s - loss: 1.8203 - acc: 0.2420 - val_loss: 1.8084 - val_acc: 0.2583\n",
      "\n",
      "Epoch 00034: val_loss did not improve from 1.80776\n",
      "Epoch 35/50\n",
      " - 14s - loss: 1.8222 - acc: 0.2417 - val_loss: 1.8081 - val_acc: 0.2581\n",
      "\n",
      "Epoch 00035: val_loss did not improve from 1.80776\n",
      "Epoch 36/50\n",
      " - 14s - loss: 1.8207 - acc: 0.2443 - val_loss: 1.8080 - val_acc: 0.2581\n",
      "\n",
      "Epoch 00036: val_loss did not improve from 1.80776\n",
      "Epoch 37/50\n",
      " - 15s - loss: 1.8211 - acc: 0.2420 - val_loss: 1.8076 - val_acc: 0.2579\n",
      "\n",
      "Epoch 00037: val_loss improved from 1.80776 to 1.80760, saving model to Transfer_emotion.model.best.hdf5\n",
      "Epoch 38/50\n",
      " - 14s - loss: 1.8202 - acc: 0.2444 - val_loss: 1.8074 - val_acc: 0.2579\n",
      "\n",
      "Epoch 00038: val_loss improved from 1.80760 to 1.80741, saving model to Transfer_emotion.model.best.hdf5\n",
      "Epoch 39/50\n",
      " - 14s - loss: 1.8195 - acc: 0.2434 - val_loss: 1.8082 - val_acc: 0.2577\n",
      "\n",
      "Epoch 00039: val_loss did not improve from 1.80741\n",
      "Epoch 40/50\n",
      " - 14s - loss: 1.8195 - acc: 0.2412 - val_loss: 1.8074 - val_acc: 0.2579\n",
      "\n",
      "Epoch 00040: val_loss improved from 1.80741 to 1.80739, saving model to Transfer_emotion.model.best.hdf5\n",
      "Epoch 41/50\n",
      " - 14s - loss: 1.8183 - acc: 0.2441 - val_loss: 1.8077 - val_acc: 0.2581\n",
      "\n",
      "Epoch 00041: val_loss did not improve from 1.80739\n",
      "Epoch 42/50\n",
      " - 14s - loss: 1.8189 - acc: 0.2444 - val_loss: 1.8077 - val_acc: 0.2581\n",
      "\n",
      "Epoch 00042: val_loss did not improve from 1.80739\n",
      "Epoch 43/50\n",
      " - 14s - loss: 1.8192 - acc: 0.2438 - val_loss: 1.8076 - val_acc: 0.2579\n",
      "\n",
      "Epoch 00043: val_loss did not improve from 1.80739\n",
      "Epoch 44/50\n",
      " - 14s - loss: 1.8182 - acc: 0.2462 - val_loss: 1.8078 - val_acc: 0.2581\n",
      "\n",
      "Epoch 00044: val_loss did not improve from 1.80739\n",
      "Epoch 45/50\n",
      " - 14s - loss: 1.8187 - acc: 0.2437 - val_loss: 1.8078 - val_acc: 0.2579\n",
      "\n",
      "Epoch 00045: val_loss did not improve from 1.80739\n",
      "Epoch 46/50\n",
      " - 14s - loss: 1.8174 - acc: 0.2447 - val_loss: 1.8080 - val_acc: 0.2577\n",
      "\n",
      "Epoch 00046: val_loss did not improve from 1.80739\n",
      "Epoch 47/50\n",
      " - 14s - loss: 1.8186 - acc: 0.2439 - val_loss: 1.8074 - val_acc: 0.2579\n",
      "\n",
      "Epoch 00047: val_loss did not improve from 1.80739\n",
      "Epoch 48/50\n",
      " - 14s - loss: 1.8181 - acc: 0.2458 - val_loss: 1.8076 - val_acc: 0.2579\n",
      "\n",
      "Epoch 00048: val_loss did not improve from 1.80739\n",
      "Epoch 49/50\n",
      " - 14s - loss: 1.8191 - acc: 0.2464 - val_loss: 1.8081 - val_acc: 0.2577\n",
      "\n",
      "Epoch 00049: val_loss did not improve from 1.80739\n",
      "Epoch 50/50\n",
      " - 14s - loss: 1.8171 - acc: 0.2450 - val_loss: 1.8077 - val_acc: 0.2576\n",
      "\n",
      "Epoch 00050: val_loss did not improve from 1.80739\n"
     ]
    }
   ],
   "source": [
    "from keras.callbacks import ModelCheckpoint   \n",
    "\n",
    "# train the model\n",
    "checkpointer = ModelCheckpoint(filepath='Transfer_emotion.model.best.hdf5', verbose=1, \n",
    "                               save_best_only=True)\n",
    "hist = model_final.fit(X_train_3dim, y_train, batch_size=128, epochs=50,\n",
    "          validation_split=0.2, callbacks=[checkpointer], \n",
    "          verbose=2, shuffle=True)"
   ]
  },
  {
   "cell_type": "code",
   "execution_count": 56,
   "metadata": {},
   "outputs": [
    {
     "data": {
      "text/plain": [
       "array([[   0,    0,    0,  987,    4,    0,    0],\n",
       "       [   0,    0,    0,  109,    0,    0,    0],\n",
       "       [   0,    0,    0, 1022,    2,    0,    0],\n",
       "       [   0,    0,    0, 1794,    2,    0,    2],\n",
       "       [   0,    0,    0, 1216,    0,    0,    0],\n",
       "       [   0,    0,    0,  800,    0,    0,    0],\n",
       "       [   0,    0,    0, 1239,    1,    0,    0]], dtype=int64)"
      ]
     },
     "execution_count": 56,
     "metadata": {},
     "output_type": "execute_result"
    }
   ],
   "source": [
    "model_final.load_weights('Transfer_emotion.model.best.hdf5')\n",
    "\n",
    "from sklearn.metrics import confusion_matrix\n",
    "\n",
    "categories = ['Angry', 'Disgust', 'Fear', 'Happy', 'Sad', 'Surprise', 'Neutral']\n",
    "X_test_3dim = np.resize(X_test, (7178, 48, 48, 3))\n",
    "prediction = np.argmax(model_final.predict(X_test_3dim), axis=1)\n",
    "true = np.argmax(y_test, axis = 1)\n",
    "\n",
    "confusion_matrix(true, prediction)"
   ]
  },
  {
   "cell_type": "code",
   "execution_count": 54,
   "metadata": {},
   "outputs": [
    {
     "data": {
      "text/plain": [
       "(7178, 48, 48, 1)"
      ]
     },
     "execution_count": 54,
     "metadata": {},
     "output_type": "execute_result"
    }
   ],
   "source": [
    "X_test.shape"
   ]
  },
  {
   "cell_type": "code",
   "execution_count": null,
   "metadata": {},
   "outputs": [],
   "source": []
  }
 ],
 "metadata": {
  "kernelspec": {
   "display_name": "Python 3",
   "language": "python",
   "name": "python3"
  },
  "language_info": {
   "codemirror_mode": {
    "name": "ipython",
    "version": 3
   },
   "file_extension": ".py",
   "mimetype": "text/x-python",
   "name": "python",
   "nbconvert_exporter": "python",
   "pygments_lexer": "ipython3",
   "version": "3.6.5"
  }
 },
 "nbformat": 4,
 "nbformat_minor": 2
}
