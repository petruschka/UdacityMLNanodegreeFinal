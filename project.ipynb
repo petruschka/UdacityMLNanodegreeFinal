{
 "cells": [
  {
   "cell_type": "markdown",
   "metadata": {},
   "source": [
    "# Data Preprocessing"
   ]
  },
  {
   "cell_type": "code",
   "execution_count": 1,
   "metadata": {},
   "outputs": [],
   "source": [
    "#import the needed libraries\n",
    "import numpy as np\n",
    "import pandas as pd\n",
    "import matplotlib.pyplot as plt"
   ]
  },
  {
   "cell_type": "code",
   "execution_count": 2,
   "metadata": {},
   "outputs": [],
   "source": [
    "#load data into a dataframe\n",
    "df = pd.read_csv(\"Data/fer2013.csv\")"
   ]
  },
  {
   "cell_type": "code",
   "execution_count": 3,
   "metadata": {
    "scrolled": true
   },
   "outputs": [
    {
     "name": "stdout",
     "output_type": "stream",
     "text": [
      "<class 'pandas.core.frame.DataFrame'>\n",
      "RangeIndex: 35887 entries, 0 to 35886\n",
      "Data columns (total 3 columns):\n",
      "emotion    35887 non-null int64\n",
      "pixels     35887 non-null object\n",
      "Usage      35887 non-null object\n",
      "dtypes: int64(1), object(2)\n",
      "memory usage: 841.2+ KB\n"
     ]
    }
   ],
   "source": [
    "#analyze the data\n",
    "df.info()"
   ]
  },
  {
   "cell_type": "code",
   "execution_count": 4,
   "metadata": {},
   "outputs": [
    {
     "data": {
      "text/html": [
       "<div>\n",
       "<style scoped>\n",
       "    .dataframe tbody tr th:only-of-type {\n",
       "        vertical-align: middle;\n",
       "    }\n",
       "\n",
       "    .dataframe tbody tr th {\n",
       "        vertical-align: top;\n",
       "    }\n",
       "\n",
       "    .dataframe thead th {\n",
       "        text-align: right;\n",
       "    }\n",
       "</style>\n",
       "<table border=\"1\" class=\"dataframe\">\n",
       "  <thead>\n",
       "    <tr style=\"text-align: right;\">\n",
       "      <th></th>\n",
       "      <th>emotion</th>\n",
       "      <th>pixels</th>\n",
       "      <th>Usage</th>\n",
       "    </tr>\n",
       "  </thead>\n",
       "  <tbody>\n",
       "    <tr>\n",
       "      <th>0</th>\n",
       "      <td>0</td>\n",
       "      <td>70 80 82 72 58 58 60 63 54 58 60 48 89 115 121...</td>\n",
       "      <td>Training</td>\n",
       "    </tr>\n",
       "    <tr>\n",
       "      <th>1</th>\n",
       "      <td>0</td>\n",
       "      <td>151 150 147 155 148 133 111 140 170 174 182 15...</td>\n",
       "      <td>Training</td>\n",
       "    </tr>\n",
       "    <tr>\n",
       "      <th>2</th>\n",
       "      <td>2</td>\n",
       "      <td>231 212 156 164 174 138 161 173 182 200 106 38...</td>\n",
       "      <td>Training</td>\n",
       "    </tr>\n",
       "    <tr>\n",
       "      <th>3</th>\n",
       "      <td>4</td>\n",
       "      <td>24 32 36 30 32 23 19 20 30 41 21 22 32 34 21 1...</td>\n",
       "      <td>Training</td>\n",
       "    </tr>\n",
       "    <tr>\n",
       "      <th>4</th>\n",
       "      <td>6</td>\n",
       "      <td>4 0 0 0 0 0 0 0 0 0 0 0 3 15 23 28 48 50 58 84...</td>\n",
       "      <td>Training</td>\n",
       "    </tr>\n",
       "    <tr>\n",
       "      <th>5</th>\n",
       "      <td>2</td>\n",
       "      <td>55 55 55 55 55 54 60 68 54 85 151 163 170 179 ...</td>\n",
       "      <td>Training</td>\n",
       "    </tr>\n",
       "    <tr>\n",
       "      <th>6</th>\n",
       "      <td>4</td>\n",
       "      <td>20 17 19 21 25 38 42 42 46 54 56 62 63 66 82 1...</td>\n",
       "      <td>Training</td>\n",
       "    </tr>\n",
       "    <tr>\n",
       "      <th>7</th>\n",
       "      <td>3</td>\n",
       "      <td>77 78 79 79 78 75 60 55 47 48 58 73 77 79 57 5...</td>\n",
       "      <td>Training</td>\n",
       "    </tr>\n",
       "    <tr>\n",
       "      <th>8</th>\n",
       "      <td>3</td>\n",
       "      <td>85 84 90 121 101 102 133 153 153 169 177 189 1...</td>\n",
       "      <td>Training</td>\n",
       "    </tr>\n",
       "    <tr>\n",
       "      <th>9</th>\n",
       "      <td>2</td>\n",
       "      <td>255 254 255 254 254 179 122 107 95 124 149 150...</td>\n",
       "      <td>Training</td>\n",
       "    </tr>\n",
       "  </tbody>\n",
       "</table>\n",
       "</div>"
      ],
      "text/plain": [
       "   emotion                                             pixels     Usage\n",
       "0        0  70 80 82 72 58 58 60 63 54 58 60 48 89 115 121...  Training\n",
       "1        0  151 150 147 155 148 133 111 140 170 174 182 15...  Training\n",
       "2        2  231 212 156 164 174 138 161 173 182 200 106 38...  Training\n",
       "3        4  24 32 36 30 32 23 19 20 30 41 21 22 32 34 21 1...  Training\n",
       "4        6  4 0 0 0 0 0 0 0 0 0 0 0 3 15 23 28 48 50 58 84...  Training\n",
       "5        2  55 55 55 55 55 54 60 68 54 85 151 163 170 179 ...  Training\n",
       "6        4  20 17 19 21 25 38 42 42 46 54 56 62 63 66 82 1...  Training\n",
       "7        3  77 78 79 79 78 75 60 55 47 48 58 73 77 79 57 5...  Training\n",
       "8        3  85 84 90 121 101 102 133 153 153 169 177 189 1...  Training\n",
       "9        2  255 254 255 254 254 179 122 107 95 124 149 150...  Training"
      ]
     },
     "execution_count": 4,
     "metadata": {},
     "output_type": "execute_result"
    }
   ],
   "source": [
    "df.head(10)"
   ]
  },
  {
   "cell_type": "code",
   "execution_count": 5,
   "metadata": {},
   "outputs": [
    {
     "name": "stderr",
     "output_type": "stream",
     "text": [
      "No handles with labels found to put in legend.\n"
     ]
    },
    {
     "data": {
      "image/png": "[encoded data removed]",
      "text/plain": [
       "<Figure size 432x288 with 1 Axes>"
      ]
     },
     "metadata": {},
     "output_type": "display_data"
    }
   ],
   "source": [
    "#plot the distribution of emotions\n",
    "plt.hist(df['emotion'], bins=range(0,8), align='left')\n",
    "plt.xlabel(\"Emotion\")\n",
    "plt.ylabel(\"Number of pictures per emotion\")\n",
    "plt.legend()\n",
    "plt.show()"
   ]
  },
  {
   "cell_type": "markdown",
   "metadata": {},
   "source": [
    "## Data Preprocessing"
   ]
  },
  {
   "cell_type": "code",
   "execution_count": 55,
   "metadata": {},
   "outputs": [],
   "source": [
    "#split the 'pixels' string by whitespace and save the result as a list\n",
    "X = df['pixels'].apply(np.core.defchararray.split)"
   ]
  },
  {
   "cell_type": "code",
   "execution_count": 56,
   "metadata": {},
   "outputs": [],
   "source": [
    "#create a numpy array and transform str into int simultaneously\n",
    "X = np.array([list(map(int, x)) for x in X])"
   ]
  },
  {
   "cell_type": "code",
   "execution_count": 57,
   "metadata": {},
   "outputs": [],
   "source": [
    "#Reshape into a 3 dimensional numpy array\n",
    "X = X.reshape(X.shape[0], 48, 48, 1)"
   ]
  },
  {
   "cell_type": "code",
   "execution_count": 58,
   "metadata": {},
   "outputs": [],
   "source": [
    "#transform the emotion output into a numpy array\n",
    "y = df['emotion'].values"
   ]
  },
  {
   "cell_type": "markdown",
   "metadata": {},
   "source": [
    "## Data Splitting"
   ]
  },
  {
   "cell_type": "code",
   "execution_count": 60,
   "metadata": {},
   "outputs": [],
   "source": [
    "#use the stratify command in order to keep the distributions similar\n",
    "from sklearn.model_selection import train_test_split\n",
    "X_train, X_test, y_train, y_test = train_test_split(X, y, test_size=0.2, random_state = 42, stratify=y)"
   ]
  },
  {
   "cell_type": "markdown",
   "metadata": {},
   "source": [
    "## Draw the data"
   ]
  },
  {
   "cell_type": "code",
   "execution_count": 62,
   "metadata": {},
   "outputs": [
    {
     "data": {
      "image/png": "[encoded data removed]",
      "text/plain": [
       "<Figure size 1080x1080 with 10 Axes>"
      ]
     },
     "metadata": {},
     "output_type": "display_data"
    }
   ],
   "source": [
    "#draw the first 12 images\n",
    "fig = plt.figure(figsize=(15, 15))\n",
    "for i in range(10):\n",
    "    ax = fig.add_subplot(1, 10, i+1)\n",
    "    ax.imshow(np.squeeze(X[i]), cmap='gray')\n",
    "    ax.set_title(y[i])"
   ]
  },
  {
   "cell_type": "markdown",
   "metadata": {},
   "source": [
    "## Data Rescaling"
   ]
  },
  {
   "cell_type": "code",
   "execution_count": 63,
   "metadata": {},
   "outputs": [],
   "source": [
    "#between 0 and 1\n",
    "#TODO Check distribution of X values\n",
    "X_train = X_train.astype('float32')/255\n",
    "X_test = X_test.astype('float32')/255"
   ]
  },
  {
   "cell_type": "markdown",
   "metadata": {},
   "source": [
    "## One Hot Encoding"
   ]
  },
  {
   "cell_type": "code",
   "execution_count": 64,
   "metadata": {},
   "outputs": [],
   "source": [
    "from keras.utils import np_utils\n",
    "\n",
    "# one hot encoding for the 7 categories\n",
    "y_train = np_utils.to_categorical(y_train, 7)\n",
    "y_test = np_utils.to_categorical(y_test, 7)"
   ]
  },
  {
   "cell_type": "markdown",
   "metadata": {},
   "source": [
    "# Multilayer Perceptron"
   ]
  },
  {
   "cell_type": "code",
   "execution_count": 65,
   "metadata": {},
   "outputs": [
    {
     "name": "stdout",
     "output_type": "stream",
     "text": [
      "_________________________________________________________________\n",
      "Layer (type)                 Output Shape              Param #   \n",
      "=================================================================\n",
      "flatten_8 (Flatten)          (None, 2304)              0         \n",
      "_________________________________________________________________\n",
      "dense_16 (Dense)             (None, 512)               1180160   \n",
      "_________________________________________________________________\n",
      "dropout_15 (Dropout)         (None, 512)               0         \n",
      "_________________________________________________________________\n",
      "dense_17 (Dense)             (None, 512)               262656    \n",
      "_________________________________________________________________\n",
      "dropout_16 (Dropout)         (None, 512)               0         \n",
      "_________________________________________________________________\n",
      "dense_18 (Dense)             (None, 7)                 3591      \n",
      "=================================================================\n",
      "Total params: 1,446,407\n",
      "Trainable params: 1,446,407\n",
      "Non-trainable params: 0\n",
      "_________________________________________________________________\n"
     ]
    }
   ],
   "source": [
    "from keras.models import Sequential\n",
    "from keras.layers import Dense, Dropout, Flatten\n",
    "\n",
    "model = Sequential()\n",
    "model.add(Flatten(input_shape=X_train.shape[1:]))\n",
    "model.add(Dense(512, activation='relu'))\n",
    "model.add(Dropout(0.2))\n",
    "model.add(Dense(512, activation='relu'))\n",
    "model.add(Dropout(0.2))\n",
    "model.add(Dense(7, activation='softmax'))\n",
    "\n",
    "model.summary()"
   ]
  },
  {
   "cell_type": "code",
   "execution_count": 66,
   "metadata": {},
   "outputs": [],
   "source": [
    "model.compile(loss='categorical_crossentropy', optimizer='rmsprop', metrics=['accuracy'])"
   ]
  },
  {
   "cell_type": "code",
   "execution_count": 67,
   "metadata": {},
   "outputs": [
    {
     "name": "stdout",
     "output_type": "stream",
     "text": [
      "Train on 22967 samples, validate on 5742 samples\n",
      "Epoch 1/10\n",
      "22967/22967 [==============================] - 19s 831us/step - loss: 2.2999 - acc: 0.2251 - val_loss: 1.7997 - val_acc: 0.2579\n",
      "\n",
      "Epoch 00001: val_loss improved from inf to 1.79972, saving model to MLP_emotion.model.best.hdf5\n",
      "Epoch 2/10\n",
      "22967/22967 [==============================] - 17s 723us/step - loss: 1.8099 - acc: 0.2513 - val_loss: 1.7846 - val_acc: 0.2659\n",
      "\n",
      "Epoch 00002: val_loss improved from 1.79972 to 1.78456, saving model to MLP_emotion.model.best.hdf5\n",
      "Epoch 3/10\n",
      "22967/22967 [==============================] - 17s 723us/step - loss: 1.7789 - acc: 0.2720 - val_loss: 1.7731 - val_acc: 0.2856\n",
      "\n",
      "Epoch 00003: val_loss improved from 1.78456 to 1.77305, saving model to MLP_emotion.model.best.hdf5\n",
      "Epoch 4/10\n",
      "22967/22967 [==============================] - 17s 725us/step - loss: 1.7568 - acc: 0.2921 - val_loss: 1.7326 - val_acc: 0.3032\n",
      "\n",
      "Epoch 00004: val_loss improved from 1.77305 to 1.73258, saving model to MLP_emotion.model.best.hdf5\n",
      "Epoch 5/10\n",
      "22967/22967 [==============================] - 17s 726us/step - loss: 1.7316 - acc: 0.3064 - val_loss: 1.7083 - val_acc: 0.3121\n",
      "\n",
      "Epoch 00005: val_loss improved from 1.73258 to 1.70831, saving model to MLP_emotion.model.best.hdf5\n",
      "Epoch 6/10\n",
      "22967/22967 [==============================] - 17s 726us/step - loss: 1.7218 - acc: 0.3183 - val_loss: 1.7098 - val_acc: 0.3126\n",
      "\n",
      "Epoch 00006: val_loss did not improve from 1.70831\n",
      "Epoch 7/10\n",
      "22967/22967 [==============================] - 17s 734us/step - loss: 1.7052 - acc: 0.3216 - val_loss: 1.6791 - val_acc: 0.3561\n",
      "\n",
      "Epoch 00007: val_loss improved from 1.70831 to 1.67909, saving model to MLP_emotion.model.best.hdf5\n",
      "Epoch 8/10\n",
      "22967/22967 [==============================] - 17s 737us/step - loss: 1.6911 - acc: 0.3340 - val_loss: 1.7094 - val_acc: 0.3299\n",
      "\n",
      "Epoch 00008: val_loss did not improve from 1.67909\n",
      "Epoch 9/10\n",
      "22967/22967 [==============================] - 17s 737us/step - loss: 1.6819 - acc: 0.3361 - val_loss: 1.8277 - val_acc: 0.3013\n",
      "\n",
      "Epoch 00009: val_loss did not improve from 1.67909\n",
      "Epoch 10/10\n",
      "22967/22967 [==============================] - 17s 729us/step - loss: 1.6738 - acc: 0.3407 - val_loss: 1.6484 - val_acc: 0.3528\n",
      "\n",
      "Epoch 00010: val_loss improved from 1.67909 to 1.64837, saving model to MLP_emotion.model.best.hdf5\n"
     ]
    }
   ],
   "source": [
    "from keras.callbacks import ModelCheckpoint\n",
    "\n",
    "checkpointer = ModelCheckpoint(filepath='MLP_emotion.model.best.hdf5', verbose=1, save_best_only=True)\n",
    "hist = model.fit(X_train, y_train, batch_size=128, epochs=10, \n",
    "                 validation_split=0.2, callbacks=[checkpointer], verbose=1, shuffle=True)"
   ]
  },
  {
   "cell_type": "code",
   "execution_count": 17,
   "metadata": {},
   "outputs": [],
   "source": [
    "model.load_weights('MLP_emotion.model.best.hdf5')"
   ]
  },
  {
   "cell_type": "code",
   "execution_count": 18,
   "metadata": {},
   "outputs": [
    {
     "data": {
      "text/plain": [
       "array([[  51,    0,   10,  583,  254,   37,   56],\n",
       "       [   3,    0,    2,   77,   19,    4,    4],\n",
       "       [  46,    0,   21,  576,  255,   78,   48],\n",
       "       [  13,    0,    6, 1541,  182,   32,   24],\n",
       "       [  32,    0,   13,  630,  435,   21,   85],\n",
       "       [  43,    0,   40,  346,  107,  224,   40],\n",
       "       [  23,    0,   10,  729,  301,   25,  152]], dtype=int64)"
      ]
     },
     "execution_count": 18,
     "metadata": {},
     "output_type": "execute_result"
    }
   ],
   "source": [
    "from sklearn.metrics import confusion_matrix\n",
    "\n",
    "categories = ['Angry', 'Disgust', 'Fear', 'Happy', 'Sad', 'Surprise', 'Neutral']\n",
    "prediction = np.argmax(model.predict(X_test), axis=1)\n",
    "true = np.argmax(y_test, axis = 1)\n",
    "\n",
    "confusion_matrix(true, prediction)"
   ]
  },
  {
   "cell_type": "markdown",
   "metadata": {},
   "source": [
    "## Convolutional Neural Networks"
   ]
  },
  {
   "cell_type": "code",
   "execution_count": 68,
   "metadata": {},
   "outputs": [
    {
     "name": "stdout",
     "output_type": "stream",
     "text": [
      "_________________________________________________________________\n",
      "Layer (type)                 Output Shape              Param #   \n",
      "=================================================================\n",
      "conv2d_23 (Conv2D)           (None, 48, 48, 16)        80        \n",
      "_________________________________________________________________\n",
      "max_pooling2d_19 (MaxPooling (None, 24, 24, 16)        0         \n",
      "_________________________________________________________________\n",
      "conv2d_24 (Conv2D)           (None, 24, 24, 32)        2080      \n",
      "_________________________________________________________________\n",
      "max_pooling2d_20 (MaxPooling (None, 12, 12, 32)        0         \n",
      "_________________________________________________________________\n",
      "conv2d_25 (Conv2D)           (None, 12, 12, 64)        8256      \n",
      "_________________________________________________________________\n",
      "max_pooling2d_21 (MaxPooling (None, 6, 6, 64)          0         \n",
      "_________________________________________________________________\n",
      "dropout_17 (Dropout)         (None, 6, 6, 64)          0         \n",
      "_________________________________________________________________\n",
      "flatten_9 (Flatten)          (None, 2304)              0         \n",
      "_________________________________________________________________\n",
      "dense_19 (Dense)             (None, 500)               1152500   \n",
      "_________________________________________________________________\n",
      "dropout_18 (Dropout)         (None, 500)               0         \n",
      "_________________________________________________________________\n",
      "dense_20 (Dense)             (None, 7)                 3507      \n",
      "=================================================================\n",
      "Total params: 1,166,423\n",
      "Trainable params: 1,166,423\n",
      "Non-trainable params: 0\n",
      "_________________________________________________________________\n"
     ]
    }
   ],
   "source": [
    "from keras.models import Sequential\n",
    "from keras.layers import Conv2D, MaxPooling2D, Flatten, Dense, Dropout\n",
    "\n",
    "model = Sequential()\n",
    "model.add(Conv2D(filters=16, kernel_size=2, padding='same', activation='relu', \n",
    "                        input_shape=X_train.shape[1:]))\n",
    "model.add(MaxPooling2D(pool_size=2))\n",
    "model.add(Conv2D(filters=32, kernel_size=2, padding='same', activation='relu'))\n",
    "model.add(MaxPooling2D(pool_size=2))\n",
    "model.add(Conv2D(filters=64, kernel_size=2, padding='same', activation='relu'))\n",
    "model.add(MaxPooling2D(pool_size=2))\n",
    "model.add(Dropout(0.3))\n",
    "model.add(Flatten())\n",
    "model.add(Dense(500, activation='relu'))\n",
    "model.add(Dropout(0.4))\n",
    "model.add(Dense(7, activation='softmax'))\n",
    "\n",
    "model.summary()"
   ]
  },
  {
   "cell_type": "code",
   "execution_count": 69,
   "metadata": {},
   "outputs": [],
   "source": [
    "# compile the model\n",
    "model.compile(loss='categorical_crossentropy', optimizer='rmsprop', \n",
    "                  metrics=['accuracy'])"
   ]
  },
  {
   "cell_type": "code",
   "execution_count": 71,
   "metadata": {},
   "outputs": [
    {
     "name": "stdout",
     "output_type": "stream",
     "text": [
      "Train on 22967 samples, validate on 5742 samples\n",
      "Epoch 1/10\n",
      " - 56s - loss: 1.5546 - acc: 0.4014 - val_loss: 1.4952 - val_acc: 0.4377\n",
      "\n",
      "Epoch 00001: val_loss improved from inf to 1.49515, saving model to CNN_emotion.model.best.hdf5\n",
      "Epoch 2/10\n",
      " - 57s - loss: 1.4787 - acc: 0.4328 - val_loss: 1.4442 - val_acc: 0.4599\n",
      "\n",
      "Epoch 00002: val_loss improved from 1.49515 to 1.44419, saving model to CNN_emotion.model.best.hdf5\n",
      "Epoch 3/10\n",
      " - 55s - loss: 1.4178 - acc: 0.4603 - val_loss: 1.4362 - val_acc: 0.4523\n",
      "\n",
      "Epoch 00003: val_loss improved from 1.44419 to 1.43625, saving model to CNN_emotion.model.best.hdf5\n",
      "Epoch 4/10\n",
      " - 57s - loss: 1.3692 - acc: 0.4798 - val_loss: 1.3778 - val_acc: 0.4784\n",
      "\n",
      "Epoch 00004: val_loss improved from 1.43625 to 1.37784, saving model to CNN_emotion.model.best.hdf5\n",
      "Epoch 5/10\n",
      " - 54s - loss: 1.3242 - acc: 0.4925 - val_loss: 1.3762 - val_acc: 0.4772\n",
      "\n",
      "Epoch 00005: val_loss improved from 1.37784 to 1.37624, saving model to CNN_emotion.model.best.hdf5\n",
      "Epoch 6/10\n",
      " - 52s - loss: 1.2924 - acc: 0.5076 - val_loss: 1.3266 - val_acc: 0.4984\n",
      "\n",
      "Epoch 00006: val_loss improved from 1.37624 to 1.32661, saving model to CNN_emotion.model.best.hdf5\n",
      "Epoch 7/10\n",
      " - 53s - loss: 1.2565 - acc: 0.5233 - val_loss: 1.2790 - val_acc: 0.5106\n",
      "\n",
      "Epoch 00007: val_loss improved from 1.32661 to 1.27895, saving model to CNN_emotion.model.best.hdf5\n",
      "Epoch 8/10\n",
      " - 55s - loss: 1.2257 - acc: 0.5324 - val_loss: 1.3433 - val_acc: 0.4868\n",
      "\n",
      "Epoch 00008: val_loss did not improve from 1.27895\n",
      "Epoch 9/10\n",
      " - 55s - loss: 1.1952 - acc: 0.5477 - val_loss: 1.2819 - val_acc: 0.5108\n",
      "\n",
      "Epoch 00009: val_loss did not improve from 1.27895\n",
      "Epoch 10/10\n",
      " - 55s - loss: 1.1640 - acc: 0.5631 - val_loss: 1.2751 - val_acc: 0.5160\n",
      "\n",
      "Epoch 00010: val_loss improved from 1.27895 to 1.27509, saving model to CNN_emotion.model.best.hdf5\n"
     ]
    }
   ],
   "source": [
    "from keras.callbacks import ModelCheckpoint   \n",
    "\n",
    "# train the model\n",
    "checkpointer = ModelCheckpoint(filepath='CNN_emotion.model.best.hdf5', verbose=1, \n",
    "                               save_best_only=True)\n",
    "hist = model.fit(X_train, y_train, batch_size=128, epochs=10,\n",
    "          validation_split=0.2, callbacks=[checkpointer], \n",
    "          verbose=2, shuffle=True)"
   ]
  },
  {
   "cell_type": "code",
   "execution_count": 74,
   "metadata": {},
   "outputs": [
    {
     "data": {
      "text/plain": [
       "array([[ 348,    2,   34,  262,  124,   28,  193],\n",
       "       [  23,   16,    7,   28,   12,    6,   17],\n",
       "       [ 119,    2,  161,  225,  167,  142,  208],\n",
       "       [  39,    0,   10, 1547,   62,   35,  105],\n",
       "       [ 135,    3,   51,  330,  367,   18,  312],\n",
       "       [  21,    1,   37,  126,   21,  541,   53],\n",
       "       [  74,    0,   29,  261,  123,   27,  726]], dtype=int64)"
      ]
     },
     "execution_count": 74,
     "metadata": {},
     "output_type": "execute_result"
    }
   ],
   "source": [
    "model.load_weights('CNN_emotion.model.best.hdf5')\n",
    "\n",
    "from sklearn.metrics import confusion_matrix\n",
    "\n",
    "categories = ['Angry', 'Disgust', 'Fear', 'Happy', 'Sad', 'Surprise', 'Neutral']\n",
    "prediction = np.argmax(model.predict(X_test), axis=1)\n",
    "true = np.argmax(y_test, axis = 1)\n",
    "\n",
    "confusion_matrix(true, prediction)"
   ]
  },
  {
   "cell_type": "code",
   "execution_count": null,
   "metadata": {},
   "outputs": [],
   "source": []
  }
 ],
 "metadata": {
  "kernelspec": {
   "display_name": "Python 3",
   "language": "python",
   "name": "python3"
  },
  "language_info": {
   "codemirror_mode": {
    "name": "ipython",
    "version": 3
   },
   "file_extension": ".py",
   "mimetype": "text/x-python",
   "name": "python",
   "nbconvert_exporter": "python",
   "pygments_lexer": "ipython3",
   "version": "3.6.5"
  }
 },
 "nbformat": 4,
 "nbformat_minor": 2
}
